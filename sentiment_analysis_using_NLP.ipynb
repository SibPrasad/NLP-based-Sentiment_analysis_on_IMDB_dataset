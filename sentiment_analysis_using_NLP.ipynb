{
 "cells": [
  {
   "cell_type": "code",
   "execution_count": 107,
   "metadata": {},
   "outputs": [
    {
     "name": "stdout",
     "output_type": "stream",
     "text": [
      "(25000, 5)\n",
      "       index  type                                             review label  \\\n",
      "0          0  test  Once again Mr. Costner has dragged out a movie...   neg   \n",
      "1          1  test  This is an example of why the majority of acti...   neg   \n",
      "2          2  test  First of all I hate those moronic rappers, who...   neg   \n",
      "3          3  test  Not even the Beatles could write songs everyon...   neg   \n",
      "4          4  test  Brass pictures (movies is not a fitting word f...   neg   \n",
      "...      ...   ...                                                ...   ...   \n",
      "24995  24995  test  I was extraordinarily impressed by this film. ...   pos   \n",
      "24996  24996  test  Although I'm not a golf fan, I attended a snea...   pos   \n",
      "24997  24997  test  From the start of \"The Edge Of Love\", the view...   pos   \n",
      "24998  24998  test  This movie, with all its complexity and subtle...   pos   \n",
      "24999  24999  test  I've seen this story before but my kids haven'...   pos   \n",
      "\n",
      "              file  \n",
      "0          0_2.txt  \n",
      "1      10000_4.txt  \n",
      "2      10001_1.txt  \n",
      "3      10002_3.txt  \n",
      "4      10003_3.txt  \n",
      "...            ...  \n",
      "24995   9998_8.txt  \n",
      "24996  9999_10.txt  \n",
      "24997    999_8.txt  \n",
      "24998    99_10.txt  \n",
      "24999      9_7.txt  \n",
      "\n",
      "[25000 rows x 5 columns]\n"
     ]
    }
   ],
   "source": [
    "     #---------------------STAGE-1--------------------\n",
    "import pandas as pd\n",
    "d=pd.read_csv(\"C:/Users/SIB/Desktop/review_25.csv\",encoding='latin1') #You have to use the encoding as latin1 to read this file as there are some special character in this file, use the below code snippet to read the file.\n",
    "print(d.shape)\n",
    "print(d)"
   ]
  },
  {
   "cell_type": "code",
   "execution_count": 108,
   "metadata": {},
   "outputs": [
    {
     "name": "stdout",
     "output_type": "stream",
     "text": [
      "      label\n",
      "0       neg\n",
      "1       neg\n",
      "2       neg\n",
      "3       neg\n",
      "4       neg\n",
      "...     ...\n",
      "24995   pos\n",
      "24996   pos\n",
      "24997   pos\n",
      "24998   pos\n",
      "24999   pos\n",
      "\n",
      "[25000 rows x 1 columns]\n"
     ]
    }
   ],
   "source": [
    "label=d[['label']]\n",
    "print(label)"
   ]
  },
  {
   "cell_type": "code",
   "execution_count": 109,
   "metadata": {
    "scrolled": true
   },
   "outputs": [
    {
     "data": {
      "text/html": [
       "<div>\n",
       "<style scoped>\n",
       "    .dataframe tbody tr th:only-of-type {\n",
       "        vertical-align: middle;\n",
       "    }\n",
       "\n",
       "    .dataframe tbody tr th {\n",
       "        vertical-align: top;\n",
       "    }\n",
       "\n",
       "    .dataframe thead th {\n",
       "        text-align: right;\n",
       "    }\n",
       "</style>\n",
       "<table border=\"1\" class=\"dataframe\">\n",
       "  <thead>\n",
       "    <tr style=\"text-align: right;\">\n",
       "      <th></th>\n",
       "      <th>index</th>\n",
       "    </tr>\n",
       "  </thead>\n",
       "  <tbody>\n",
       "    <tr>\n",
       "      <td>count</td>\n",
       "      <td>25000.000000</td>\n",
       "    </tr>\n",
       "    <tr>\n",
       "      <td>mean</td>\n",
       "      <td>12499.500000</td>\n",
       "    </tr>\n",
       "    <tr>\n",
       "      <td>std</td>\n",
       "      <td>7217.022701</td>\n",
       "    </tr>\n",
       "    <tr>\n",
       "      <td>min</td>\n",
       "      <td>0.000000</td>\n",
       "    </tr>\n",
       "    <tr>\n",
       "      <td>25%</td>\n",
       "      <td>6249.750000</td>\n",
       "    </tr>\n",
       "    <tr>\n",
       "      <td>50%</td>\n",
       "      <td>12499.500000</td>\n",
       "    </tr>\n",
       "    <tr>\n",
       "      <td>75%</td>\n",
       "      <td>18749.250000</td>\n",
       "    </tr>\n",
       "    <tr>\n",
       "      <td>max</td>\n",
       "      <td>24999.000000</td>\n",
       "    </tr>\n",
       "  </tbody>\n",
       "</table>\n",
       "</div>"
      ],
      "text/plain": [
       "              index\n",
       "count  25000.000000\n",
       "mean   12499.500000\n",
       "std     7217.022701\n",
       "min        0.000000\n",
       "25%     6249.750000\n",
       "50%    12499.500000\n",
       "75%    18749.250000\n",
       "max    24999.000000"
      ]
     },
     "execution_count": 109,
     "metadata": {},
     "output_type": "execute_result"
    }
   ],
   "source": [
    "d.describe()"
   ]
  },
  {
   "cell_type": "code",
   "execution_count": 110,
   "metadata": {},
   "outputs": [
    {
     "data": {
      "text/plain": [
       "neg    12500\n",
       "pos    12500\n",
       "Name: label, dtype: int64"
      ]
     },
     "execution_count": 110,
     "metadata": {},
     "output_type": "execute_result"
    }
   ],
   "source": [
    "d['label'].value_counts()"
   ]
  },
  {
   "cell_type": "code",
   "execution_count": 111,
   "metadata": {},
   "outputs": [],
   "source": [
    "# Step - a : Remove blank rows if any.\n",
    "d['review'].dropna(inplace=True)\n",
    "\n",
    "# Step - b : Change all the text to lower case. This is required as python interprets 'dog' and 'DOG' differently\n",
    "d['review'] = [i.lower() for i in d['review']]\n",
    "\n",
    "# Step - c : Tokenization : In this each entry in the corpus will be broken into set of words\n",
    "from nltk.tokenize import word_tokenize\n",
    "d['review']= [word_tokenize(i) for i in d['review']]\n",
    "\n",
    "#step-d :remove stop words,non-numeric wordsby peroforming Stemming/Lemmenting\n",
    "#so it requires POS tag to understand if the word is noun or verb or adjective(bydefault it will take noun)\n",
    "from collections import defaultdict\n",
    "from nltk.corpus import wordnet as wn\n",
    "tag_word=defaultdict(lambda : wn.NOUN)\n",
    "tag_word['J']=wn.ADJ  #for adjective word\n",
    "tag_word['V']=wn.VERB #for verb word \n",
    "tag_word['R']=wn.ADV  #for adverb word\n"
   ]
  },
  {
   "cell_type": "code",
   "execution_count": 112,
   "metadata": {},
   "outputs": [],
   "source": [
    "from nltk.stem import WordNetLemmatizer\n",
    "from nltk import pos_tag\n",
    "from nltk.corpus import stopwords\n",
    "\n",
    "\n",
    "for i,j in enumerate(d['review']):\n",
    "    result_words=[] #this empty list will contain the words that stores which follow the rules\n",
    "    word_lemmatized=WordNetLemmatizer() #initializing WordNetLemmatizer()\n",
    "    for k,l in pos_tag(j):    #pos_tag function will provide the 'tag' ie; if the word is Noun(N) OR Verb(V) or Adjective(A)\n",
    "        if k not in stopwords.words('english') and k.isalpha(): #condition is to check for stop words and consider only alphabets\n",
    "            final_word=word_lemmatized.lemmatize(k,tag_word[l[0]]) \n",
    "            result_words.append(final_word) \n",
    "    d.loc[i,'text_final']=str(result_words)\n"
   ]
  },
  {
   "cell_type": "code",
   "execution_count": 113,
   "metadata": {
    "scrolled": true
   },
   "outputs": [
    {
     "name": "stdout",
     "output_type": "stream",
     "text": [
      "x_train:\n",
      " 22331    ['get', 'movie', 'since', 'come', 'live', 'wai...\n",
      "10962    ['good', 'story', 'well', 'hidden', 'never', '...\n",
      "8422     ['understand', 'people', 'film', 'neither', 'g...\n",
      "3081     ['first', 'time', 'hear', 'guest', 'house', 'p...\n",
      "10287    ['dueringer', 'dorfer', 'good', 'comedian', 'y...\n",
      "                               ...                        \n",
      "13123    ['watch', 'tip', 'velvet', 'sarah', 'water', '...\n",
      "19648    ['three', 'main', 'character', 'hopeless', 'ye...\n",
      "9845     ['review', 'imdb', 'documentary', 'overrated',...\n",
      "10799    ['forget', 'say', 'emeril', 'rachael', 'ray', ...\n",
      "2732     ['could', 'great', 'film', 'late', 'poker', 'p...\n",
      "Name: text_final, Length: 18750, dtype: object\n",
      "vocabulary that it has learned from the 'd' dataframe:\n",
      " {'costner': 993, 'drag': 1333, 'movie': 2949, 'far': 1648, 'long': 2666, 'necessary': 3007, 'aside': 257, 'terrific': 4475, 'sea': 3914, 'rescue': 3704, 'sequence': 3958, 'care': 640, 'character': 707, 'ghost': 1889, 'closet': 809, 'realize': 3609, 'early': 1386, 'forget': 1771, 'much': 2953, 'later': 2552, 'time': 4533, 'really': 3610, 'problem': 3468, 'come': 849, 'kid': 2490, 'think': 4500, 'good': 1922, 'anyone': 203, 'else': 1442, 'around': 242, 'show': 4028, 'sign': 4045, 'appear': 218, 'win': 4920, 'finally': 1711, 'well': 4881, 'past': 3236, 'half': 2006, 'way': 4861, 'point': 3357, 'stinker': 4267, 'tell': 4461, 'drive': 1349, 'best': 423, 'prior': 3460, 'magic': 2718, 'could': 996, 'keep': 2480, 'turn': 4641, 'hour': 2166, 'example': 1559, 'majority': 2728, 'action': 46, 'film': 1703, 'generic': 1875, 'boring': 504, 'nothing': 3078, 'worth': 4958, 'watch': 4853, 'complete': 884, 'waste': 4851, 'talent': 4425, 'ice': 2199, 'many': 2748, 'capable': 631, 'act': 44, 'bother': 508, 'one': 3134, 'go': 1913, 'see': 3930, 'new': 3029, 'jack': 2390, 'city': 774, 'york': 4989, 'undercover': 4671, 'hood': 2141, 'high': 2094, 'friday': 1814, 'real': 3602, 'deal': 1133, 'horribly': 2155, 'dialogue': 1228, 'alone': 134, 'make': 2729, 'teeth': 4458, 'still': 4264, 'wonder': 4942, 'heck': 2068, 'bill': 439, 'always': 146, 'play': 3337, 'exact': 1554, 'alien': 125, 'every': 1541, 'irritating': 2378, 'least': 2578, 'die': 1235, 'somewhat': 4151, 'br': 520, 'overall': 3171, 'trash': 4602, 'countless': 1000, 'want': 4836, 'night': 3043, 'practically': 3410, 'copy': 976, 'script': 3912, 'thing': 4499, 'watching': 4856, 'decent': 1143, 'hand': 2016, 'camera': 612, 'cinematography': 769, 'almost': 133, 'refreshing': 3649, 'close': 806, 'horrible': 2154, 'quite': 3554, 'first': 1721, 'hate': 2045, 'moronic': 2934, 'gun': 1994, 'press': 3436, 'curse': 1076, 'shoot': 4017, 'like': 2624, 'version': 4769, 'take': 4423, 'five': 1727, 'minute': 2879, 'explain': 1594, 'already': 137, 'single': 4071, 'sympathetic': 4409, 'except': 1562, 'guy': 1996, 'also': 139, 'william': 4914, 'hill': 2101, 'billy': 440, 'villain': 4790, 'gangster': 1852, 'right': 3762, 'fill': 1701, 'pointless': 3358, 'violence': 4793, 'walter': 4832, 'people': 3261, 'fall': 1637, 'window': 4922, 'glass': 1902, 'fly': 1749, 'everywhere': 1546, 'pretty': 3441, 'plot': 3349, 'big': 435, 'root': 3805, 'everybody': 1542, 'get': 1888, 'two': 4651, 'black': 454, 'actor': 49, 'profession': 3478, 'annoy': 192, 'ugly': 4657, 'brain': 522, 'dead': 1130, 'stay': 4246, 'away': 317, 'crap': 1019, 'instead': 2317, 'sense': 3948, 'humor': 2184, 'cast': 666, 'even': 1534, 'write': 4971, 'song': 4154, 'everyone': 1544, 'although': 143, 'second': 3921, 'none': 3060, 'provoke': 3507, 'ninety': 3047, 'social': 4133, 'change': 702, 'music': 2967, 'star': 4235, 'full': 1832, 'swing': 4402, 'back': 329, 'seat': 3920, 'man': 2735, 'accent': 23, 'acting': 45, 'saw': 3878, 'love': 2683, 'cringe': 1041, 'basic': 367, 'life': 2616, 'burn': 581, 'building': 572, 'flame': 1731, 'map': 2749, 'gold': 1918, 'quickly': 3548, 'set': 3968, 'main': 2723, 'location': 2656, 'fault': 1664, 'involve': 2364, 'performance': 3269, 'must': 2971, 'red': 3634, 'hot': 2164, 'enjoy': 1481, 'career': 641, 'opinion': 3142, 'fell': 1679, 'flat': 1734, 'ridiculously': 3760, 'find': 1714, 'lock': 2657, 'multiple': 2955, 'state': 4240, 'disbelief': 1268, 'documentary': 1307, 'wont': 4946, 'stupid': 4310, 'twist': 4649, 'lead': 2570, 'nowhere': 3084, 'feeling': 1677, 'confused': 917, 'scene': 3887, 'needle': 3010, 'huge': 2175, 'pistol': 3322, 'bottom': 510, 'line': 2632, 'yeah': 4981, 'ill': 2215, 'eat': 1395, 'hungry': 2188, 'feel': 1676, 'aware': 316, 'taste': 4438, 'picture': 3308, 'word': 4951, 'visual': 4806, 'quality': 3540, 'reminiscent': 3683, 'expensive': 1588, 'class': 782, 'tv': 4643, 'commercial': 863, 'unfortunately': 4693, 'feature': 1673, 'entertain': 1491, 'viewer': 4785, 'fail': 1627, 'miserably': 2884, 'rather': 3588, 'soft': 4136, 'erotic': 1512, 'non': 3059, 'remake': 3676, 'visconti': 4801, 'title': 4542, 'farley': 1651, 'granger': 1947, 'original': 3153, 'story': 4276, 'senseless': 3949, 'lust': 2704, 'venice': 4766, 'italian': 2385, 'war': 4837, 'move': 2947, 'century': 689, 'men': 2823, 'shirt': 4012, 'german': 1885, 'uniform': 4696, 'historic': 2109, 'context': 945, 'completely': 885, 'anna': 188, 'attractive': 294, 'woman': 4941, 'put': 3535, 'actress': 50, 'clearly': 789, 'material': 2784, 'wide': 4905, 'range': 3577, 'facial': 1622, 'expression': 1608, 'boredom': 503, 'delight': 1164, 'fear': 1670, 'reason': 3613, 'endure': 1469, 'basically': 368, 'trashy': 4603, 'stuff': 4305, 'amount': 163, 'dignity': 1243, 'wish': 4931, 'part': 3220, 'along': 135, 'deserve': 1198, 'funny': 1838, 'happen': 2022, 'hero': 2084, 'director': 1256, 'totally': 4566, 'unable': 4661, 'understand': 4677, 'mannequin': 2745, 'excuse': 1573, 'corps': 985, 'image': 2223, 'english': 1478, 'badly': 335, 'dub': 1359, 'less': 2599, 'access': 27, 'town': 4575, 'would': 4962, 'without': 4935, 'gratuitous': 1953, 'lesbian': 2597, 'mention': 2829, 'romantic': 3796, 'aspect': 260, 'oh': 3126, 'sweet': 4400, 'miss': 2888, 'horror': 2159, 'weird': 4879, 'connection': 921, 'child': 735, 'abuse': 19, 'suppose': 4363, 'base': 363, 'upon': 4728, 'true': 4631, 'deaf': 1132, 'mute': 2973, 'result': 3725, 'repeat': 3692, 'father': 1663, 'doll': 1310, 'figure': 1699, 'tease': 4448, 'day': 1128, 'break': 530, 'cemetery': 683, 'funeral': 1837, 'home': 2132, 'drink': 1347, 'blood': 474, 'girl': 1897, 'course': 1006, 'fact': 1623, 'usually': 4741, 'tear': 4447, 'clothing': 812, 'graduate': 1939, 'eventually': 1538, 'actually': 52, 'kill': 2494, 'say': 3879, 'strange': 4283, 'dark': 1113, 'slow': 4111, 'never': 3027, 'talk': 4427, 'spend': 4192, 'fan': 1643, 'japanese': 2405, 'expect': 1585, 'ca': 600, 'poor': 3373, 'might': 2853, 'cut': 1082, 'little': 2645, 'something': 4148, 'ever': 1539, 'pity': 3327, 'stand': 4229, 'awful': 320, 'mess': 2837, 'call': 609, 'pacing': 3189, 'standard': 4230, 'quirky': 3552, 'notice': 3079, 'use': 4736, 'seem': 3932, 'different': 1237, 'steer': 4251, 'clear': 788, 'seriously': 3963, 'old': 3131, 'beat': 383, 'cameo': 611, 'unless': 4710, 'need': 3009, 'suffer': 4338, 'eye': 1619, 'year': 4982, 'hunt': 2189, 'cop': 973, 'lame': 2535, 'flick': 1739, 'filler': 1702, 'stellar': 4253, 'three': 4515, 'bus': 587, 'video': 4782, 'game': 1850, 'walk': 4825, 'cell': 681, 'phone': 3297, 'hang': 2020, 'etc': 1524, 'read': 3597, 'subtitle': 4324, 'wait': 4823, 'thin': 4498, 'support': 4361, 'low': 2688, 'end': 1465, 'production': 3476, 'value': 4751, 'romance': 3794, 'sex': 3977, 'nudity': 3088, 'heavy': 2067, 'drama': 1337, 'wealthy': 4866, 'horse': 2160, 'crawford': 1022, 'manhattan': 2739, 'son': 4153, 'certain': 690, 'bright': 542, 'blonde': 473, 'hair': 2004, 'dance': 1101, 'floor': 1744, 'musical': 2968, 'yet': 4988, 'bit': 449, 'edge': 1401, 'dancing': 1103, 'betty': 428, 'alice': 124, 'give': 1899, 'though': 4508, 'pair': 3200, 'slick': 4105, 'charlotte': 715, 'aunt': 299, 'driver': 1351, 'constantly': 936, 'asleep': 259, 'job': 2433, 'carmen': 649, 'stock': 4269, 'shot': 4024, 'fox': 1792, 'supporting': 4362, 'finale': 1710, 'enough': 1485, 'cage': 603, 'drunk': 1356, 'praise': 3412, 'elizabeth': 1440, 'piece': 3310, 'flesh': 1738, 'hollywood': 2126, 'literally': 2642, 'vomit': 4814, 'mean': 2797, 'contribute': 952, 'nick': 3040, 'pull': 3519, 'bad': 333, 'brilliant': 544, 'role': 3791, 'nobody': 3052, 'search': 3918, 'begin': 395, 'contract': 949, 'lou': 2678, 'train': 4589, 'terror': 4478, 'rent': 3690, 'disappointed': 1264, 'outside': 3168, 'box': 516, 'promise': 3489, 'suspense': 4386, 'thriller': 4517, 'british': 548, 'ruth': 3836, 'novel': 3082, 'lot': 2677, 'leave': 2580, 'unlikely': 4714, 'anytime': 205, 'start': 4239, 'promising': 3490, 'note': 3077, 'suspect': 4384, 'hit': 2113, 'run': 3825, 'husband': 2194, 'notion': 3080, 'prove': 3505, 'idea': 2201, 'wife': 4909, 'occur': 3111, 'confess': 910, 'element': 1432, 'place': 3328, 'felt': 1681, 'direction': 1254, 'become': 387, 'sort': 4159, 'mild': 2856, 'soap': 4131, 'opera': 3139, 'relationship': 3664, 'enjoyable': 1482, 'twisted': 4650, 'lover': 2686, 'triangle': 4616, 'label': 2526, 'beginning': 396, 'distraction': 1292, 'content': 943, 'do': 1303, 'whole': 4900, 'event': 1536, 'rating': 3589, 'short': 4021, 'expectation': 1586, 'serious': 3962, 'house': 2167, 'fully': 1833, 'barely': 354, 'lonely': 2664, 'room': 3802, 'playboy': 3338, 'bar': 349, 'proud': 3504, 'boast': 479, 'kind': 2498, 'alcoholic': 117, 'bottle': 509, 'hold': 2121, 'inch': 2255, 'mouth': 2946, 'generally': 1872, 'spill': 4197, 'face': 1621, 'girlfriend': 1898, 'cinema': 766, 'audience': 296, 'portray': 3386, 'grace': 1936, 'screen': 3906, 'look': 2668, 'summer': 4349, 'often': 3125, 'possible': 3396, 'revolt': 3739, 'skin': 4089, 'rape': 3582, 'graphic': 1950, 'implausible': 2238, 'include': 2258, 'apparently': 216, 'convey': 964, 'offer': 3120, 'male': 2733, 'sentimental': 3955, 'sexual': 3978, 'fantasy': 1647, 'laugh': 2554, 'loud': 2679, 'tough': 4569, 'street': 4287, 'hooker': 2143, 'chop': 747, 'carrot': 657, 'kitchen': 2504, 'smile': 4118, 'pop': 3375, 'shake': 3985, 'operate': 3140, 'road': 3774, 'drill': 1346, 'final': 1709, 'disappointment': 1266, 'incredible': 2266, 'incredibly': 2267, 'pretentious': 3440, 'nice': 3036, 'someone': 4147, 'create': 1027, 'young': 4990, 'prostitute': 3499, 'learn': 2577, 'anything': 204, 'hopeless': 2148, 'know': 2511, 'nicholas': 3038, 'excellent': 1561, 'usual': 4740, 'let': 2602, 'able': 5, 'perform': 3268, 'terrible': 4473, 'bath': 372, 'absolutely': 14, 'appalling': 214, 'budget': 568, 'ed': 1398, 'wood': 4948, 'art': 247, 'abysmal': 21, 'prop': 3493, 'ordinary': 3150, 'transport': 4600, 'evil': 1549, 'zone': 4998, 'killer': 2495, 'mutant': 2972, 'bullet': 574, 'fight': 1696, 'pit': 3323, 'nasty': 2990, 'female': 1682, 'interest': 2335, 'maybe': 2793, 'damn': 1099, 'guess': 1987, 'available': 308, 'entertainment': 1493, 'whatsoever': 4890, 'extremely': 1618, 'cheap': 720, 'insult': 2321, 'earth': 1388, 'woody': 4950, 'turkey': 4639, 'average': 309, 'post': 3398, 'human': 2181, 'sport': 4212, 'theme': 4493, 'ala': 111, 'dangerous': 1105, 'certainly': 691, 'review': 3736, 'near': 3002, 'fun': 1834, 'entry': 1500, 'furthermore': 1839, 'voice': 4812, 'work': 4952, 'bland': 460, 'number': 3089, 'entirely': 1497, 'tasteless': 4439, 'truly': 4632, 'illogical': 2218, 'towards': 4573, 'manage': 2736, 'initially': 2292, 'discovery': 1273, 'corpse': 986, 'response': 3719, 'bear': 380, 'mind': 2866, 'brutally': 561, 'murder': 2961, 'resolve': 3712, 'next': 3035, 'morning': 2932, 'however': 2171, 'fair': 1631, 'remain': 3675, 'nonetheless': 3061, 'watchable': 4854, 'suspend': 4385, 'benefit': 416, 'immensely': 2234, 'presence': 3431, 'limited': 2630, 'classic': 783, 'stretch': 4290, 'imagination': 2226, 'worthy': 4961, 'apocalypse': 212, 'scale': 3880, 'seek': 3931, 'vengeance': 4765, 'friend': 1815, 'cold': 831, 'fake': 1636, 'explosion': 1602, 'repetitive': 3694, 'shooting': 4018, 'ensue': 1487, 'costume': 994, 'massive': 2778, 'great': 1956, 'moment': 2909, 'lose': 2673, 'neck': 3008, 'bang': 347, 'mystery': 2976, 'sit': 4077, 'puzzle': 3536, 'destroy': 1210, 'nuclear': 3086, 'holocaust': 2129, 'somewhere': 4152, 'italy': 2386, 'band': 345, 'survivor': 4382, 'hole': 2122, 'mansion': 2747, 'surround': 4378, 'ground': 1978, 'opportunity': 3143, 'victim': 4777, 'alan': 112, 'surprisingly': 4375, 'kurt': 2521, 'russell': 3831, 'effort': 1416, 'hunter': 2190, 'harrison': 2037, 'former': 1777, 'sam': 3855, 'mostly': 2937, 'moral': 2926, 'meat': 2805, 'third': 4502, 'running': 3827, 'ten': 4465, 'indian': 2271, 'escape': 1515, 'pace': 3186, 'provide': 3506, 'reasonable': 3614, 'front': 1821, 'cry': 1063, 'group': 1980, 'speak': 4179, 'tone': 4553, 'couple': 1004, 'discuss': 1274, 'sexy': 3981, 'daughter': 1122, 'today': 4543, 'soon': 4155, 'person': 3274, 'worry': 4955, 'prepare': 3429, 'food': 1758, 'beside': 421, 'matter': 2787, 'easy': 1394, 'simple': 4057, 'busy': 594, 'makeup': 2731, 'mother': 2938, 'suggest': 4342, 'wear': 4868, 'interested': 2336, 'visit': 4804, 'hence': 2079, 'jean': 2413, 'another': 194, 'ask': 258, 'mom': 2908, 'finish': 1717, 'indicate': 2272, 'office': 3122, 'slowly': 4112, 'focus': 1751, 'white': 4898, 'cover': 1009, 'slightly': 4108, 'due': 1364, 'wind': 4921, 'reveal': 3732, 'suddenly': 4336, 'ring': 3763, 'bed': 389, 'dream': 1342, 'flash': 1732, 'wo': 4939, 'answer': 195, 'comedy': 853, 'actual': 51, 'everything': 1545, 'obvious': 3106, 'describe': 1195, 'earlier': 1385, 'belong': 410, 'category': 673, 'remotely': 3685, 'associate': 271, 'message': 2838, 'justice': 2468, 'police': 3364, 'cheat': 721, 'ok': 3128, 'succeed': 4329, 'family': 1641, 'last': 2547, 'neighborhood': 3015, 'television': 4460, 'nearly': 3004, 'ruin': 3823, 'david': 1124, 'marriage': 2762, 'bedroom': 390, 'rarely': 3585, 'venture': 4767, 'anyway': 206, 'sole': 4138, 'duke': 1365, 'miracle': 2880, 'worker': 4953, 'delightful': 1165, 'happy': 2027, 'prey': 3446, 'tag': 4421, 'axe': 324, 'wan': 4833, 'na': 2978, 'slasher': 4098, 'garbage': 1855, 'rate': 3587, 'exaggerate': 1556, 'follow': 1754, 'tendency': 4467, 'setting': 3969, 'dumb': 1367, 'teen': 4455, 'gore': 1928, 'remember': 3680, 'supernatural': 4359, 'jason': 2407, 'situation': 4080, 'bore': 501, 'lack': 2528, 'tension': 4470, 'simply': 4060, 'horrid': 2156, 'score': 3899, 'combination': 847, 'instrument': 2320, 'cheesy': 727, 'tune': 4636, 'technical': 4449, 'believe': 407, 'cost': 991, 'please': 3343, 'avoid': 311, 'plague': 3329, 'thank': 4486, 'god': 1916, 'vanish': 4754, 'emily': 1450, 'watson': 4858, 'wave': 4859, 'tom': 4549, 'normal': 3065, 'amuse': 164, 'rupert': 3828, 'everett': 1540, 'minor': 2876, 'ingredient': 2288, 'brief': 540, 'entitle': 1498, 'worthless': 4959, 'rich': 3750, 'lord': 2671, 'entertaining': 1492, 'remarkably': 3679, 'chemistry': 728, 'unnecessary': 4715, 'small': 4114, 'either': 1425, 'advice': 78, 'appreciate': 222, 'arc': 229, 'term': 4471, 'perception': 3264, 'honest': 2136, 'particularly': 3224, 'announce': 191, 'control': 956, 'declare': 1147, 'dislike': 1282, 'freak': 1804, 'unlike': 4712, 'steel': 4250, 'illness': 2217, 'inform': 2285, 'car': 637, 'dog': 1309, 'relate': 3662, 'brave': 527, 'nurse': 3092, 'boyfriend': 518, 'baby': 328, 'hard': 2029, 'spouse': 4214, 'crazy': 1025, 'screw': 3910, 'empty': 1462, 'added': 58, 'bonus': 493, 'somehow': 4146, 'previous': 3444, 'secretary': 3925, 'open': 3137, 'affection': 83, 'increase': 2264, 'kick': 2489, 'account': 33, 'harsh': 2039, 'reality': 3607, 'middle': 2851, 'age': 93, 'tend': 4466, 'intention': 2330, 'depressing': 1186, 'convince': 967, 'together': 4545, 'joy': 2450, 'continue': 947, 'emotion': 1452, 'manipulate': 2741, 'plausible': 3336, 'hackneyed': 2001, 'sure': 4366, 'celluloid': 682, 'nightmare': 3045, 'may': 2792, 'dull': 1366, 'six': 4081, 'pot': 3400, 'smoking': 4121, 'student': 4302, 'decide': 1144, 'camp': 616, 'mysterious': 2975, 'stranger': 4285, 'climax': 798, 'forest': 1769, 'ranger': 3578, 'try': 4635, 'cute': 1083, 'john': 2437, 'carl': 646, 'favorite': 1666, 'lousy': 2681, 'effect': 1413, 'witch': 4933, 'sadly': 3843, 'render': 3687, 'steve': 4258, 'bond': 490, 'brown': 556, 'smell': 4117, 'present': 3432, 'pad': 3193, 'footage': 1762, 'accidentally': 29, 'special': 4181, 'episode': 1503, 'wild': 4911, 'kingdom': 2501, 'joke': 2441, 'frog': 1820, 'jackie': 2393, 'legend': 2586, 'silent': 4049, 'conversation': 963, 'cream': 1026, 'cheese': 726, 'fire': 1718, 'mate': 2783, 'behind': 400, 'tree': 4611, 'maker': 2730, 'heart': 2059, 'sound': 4162, 'serve': 3965, 'wake': 4824, 'skip': 4090, 'pile': 3314, 'halloween': 2010, 'rat': 3586, 'physical': 3304, 'profanity': 3477, 'reference': 3645, 'drug': 1354, 'appropriate': 225, 'since': 4065, 'hell': 2074, 'various': 4757, 'bug': 570, 'animal': 182, 'recently': 3621, 'vhs': 4772, 'form': 1775, 'excited': 1570, 'fantastic': 1646, 'stalk': 4227, 'teenager': 4457, 'tense': 4469, 'fat': 1660, 'section': 3927, 'roll': 3792, 'abruptly': 10, 'burning': 582, 'return': 3731, 'pick': 3307, 'shame': 3989, 'effective': 1414, 'recommend': 3625, 'stun': 4307, 'contain': 941, 'fit': 1726, 'giggle': 1895, 'bizarre': 453, 'type': 4653, 'favourite': 1668, 'death': 1138, 'sleep': 4103, 'bag': 337, 'scary': 3885, 'endless': 1468, 'nature': 2998, 'case': 662, 'consider': 927, 'cult': 1066, 'jackson': 2394, 'solo': 4141, 'skill': 4088, 'save': 3877, 'haunt': 2047, 'plus': 3350, 'direct': 1252, 'redeem': 3635, 'level': 2606, 'rank': 3579, 'business': 590, 'amateurish': 149, 'handful': 2017, 'loyal': 2690, 'world': 4954, 'atrocious': 284, 'forgive': 1773, 'writer': 4972, 'dialog': 1227, 'development': 1219, 'awkward': 323, 'abandon': 1, 'name': 2982, 'separate': 3956, 'instance': 2314, 'fare': 1650, 'rehash': 3659, 'tale': 4424, 'boom': 496, 'exactly': 1555, 'hear': 2057, 'entire': 1496, 'deliberately': 1162, 'filmmaker': 1705, 'craze': 1024, 'hey': 2090, 'ta': 4415, 'gory': 1931, 'gag': 1845, 'probably': 3467, 'board': 478, 'somebody': 4144, 'daily': 1093, 'editor': 1407, 'pause': 3250, 'zero': 4995, 'throughout': 4519, 'inhabit': 2289, 'slice': 4104, 'critter': 1049, 'straightforward': 4280, 'reserve': 3708, 'fashion': 1658, 'attempt': 288, 'atmospheric': 281, 'photography': 3302, 'science': 3894, 'narration': 2987, 'national': 2994, 'exciting': 1572, 'commit': 864, 'insert': 2303, 'admittedly': 67, 'steam': 4249, 'string': 4294, 'appearance': 219, 'park': 3217, 'aforementioned': 86, 'aka': 108, 'wacky': 4820, 'ending': 1467, 'check': 722, 'wrap': 4965, 'spit': 4202, 'spoil': 4208, 'rest': 3722, 'largely': 2545, 'tedious': 4454, 'affair': 81, 'ai': 101, 'definitely': 1158, 'strong': 4297, 'questionable': 3546, 'award': 315, 'routine': 3815, 'derivative': 1191, 'thousand': 4511, 'unoriginal': 4716, 'large': 2544, 'encounter': 1463, 'guarantee': 1985, 'apart': 209, 'seemingly': 3933, 'expand': 1584, 'occasion': 3108, 'intro': 2350, 'scream': 3905, 'fast': 1659, 'forward': 1786, 'forty': 1785, 'elderly': 1429, 'area': 231, 'breathe': 534, 'heavily': 2066, 'ought': 3160, 'information': 2286, 'derive': 1192, 'survive': 4381, 'ago': 97, 'enter': 1489, 'twenty': 4645, 'head': 2053, 'danger': 1104, 'unaware': 4662, 'duck': 1361, 'pant': 3206, 'distribute': 1294, 'relevant': 3669, 'possibly': 3397, 'sometimes': 4150, 'live': 2647, 'forever': 1770, 'typical': 4654, 'educational': 1410, 'regard': 3652, 'habit': 1999, 'natural': 2996, 'supposedly': 4364, 'fifteen': 1693, 'worthwhile': 4960, 'fine': 1715, 'monster': 2917, 'silliness': 4050, 'retarded': 3729, 'easily': 1390, 'personal': 3276, 'list': 2640, 'worst': 4957, 'alongside': 136, 'deadly': 1131, 'hollow': 2124, 'gate': 1862, 'awake': 313, 'overly': 3176, 'bunch': 578, 'gypsy': 1997, 'cave': 677, 'mountain': 2944, 'route': 3814, 'trip': 4622, 'despite': 1207, 'welcome': 4880, 'troop': 4627, 'unseen': 4722, 'surprise': 4372, 'order': 3149, 'formula': 1778, 'weight': 4878, 'length': 2592, 'obviously': 3107, 'release': 3668, 'side': 4040, 'among': 161, 'highlight': 2095, 'local': 2654, 'sheriff': 4005, 'charlie': 714, 'chaplin': 705, 'stink': 4266, 'forbidden': 1764, 'angry': 180, 'butcher': 595, 'spin': 4198, 'partially': 3221, 'attention': 290, 'yard': 4979, 'killing': 2496, 'foolish': 1760, 'murderous': 2963, 'mill': 2861, 'idiot': 2206, 'occasional': 3109, 'touch': 4567, 'spooky': 4211, 'atmosphere': 280, 'vein': 4763, 'dawn': 1127, 'wrong': 4974, 'frost': 1822, 'match': 2782, 'guide': 1989, 'description': 1196, 'winner': 4925, 'spoiler': 4209, 'purpose': 3531, 'similar': 4053, 'style': 4312, 'dress': 1344, 'gain': 1846, 'speed': 4189, 'spread': 4216, 'throw': 4520, 'advance': 73, 'extra': 1615, 'motion': 2940, 'add': 57, 'total': 4565, 'shock': 4013, 'yes': 4986, 'pay': 3251, 'campy': 619, 'compete': 879, 'build': 571, 'intend': 2326, 'question': 3545, 'whether': 4894, 'guilty': 1991, 'additional': 62, 'complication': 889, 'motivation': 2941, 'arise': 236, 'embark': 1444, 'exposition': 1605, 'track': 4578, 'bind': 442, 'justify': 2469, 'screenwriter': 3909, 'choose': 746, 'thinking': 4501, 'execute': 1574, 'interesting': 2337, 'history': 2112, 'ad': 53, 'newspaper': 3034, 'june': 2463, 'catch': 671, 'channel': 703, 'ironically': 2374, 'sometime': 4149, 'accord': 32, 'interview': 2346, 'week': 4876, 'jim': 2428, 'date': 1120, 'cash': 664, 'market': 2759, 'flood': 1743, 'claim': 778, 'mid': 2850, 'knock': 2510, 'longer': 2667, 'min': 2865, 'potential': 3401, 'cool': 971, 'till': 4531, 'criticism': 1046, 'ridiculous': 3759, 'exchange': 1568, 'nod': 3053, 'medium': 2811, 'playing': 3340, 'beer': 391, 'fee': 1674, 'weak': 4863, 'bird': 445, 'spider': 4194, 'decade': 1142, 'satisfy': 3873, 'steal': 4248, 'weapon': 4867, 'bare': 353, 'perhaps': 3271, 'dvd': 1375, 'otherwise': 3159, 'patience': 3241, 'hardcore': 2030, 'book': 495, 'store': 4274, 'customer': 1081, 'item': 2387, 'purchase': 3528, 'display': 1285, 'bell': 408, 'haunting': 2048, 'sale': 3852, 'view': 4784, 'impression': 2246, 'jump': 2462, 'chance': 700, 'swear': 4396, 'several': 3974, 'sell': 3941, 'crew': 1038, 'sincerely': 4067, 'buy': 599, 'upset': 4731, 'borrow': 506, 'sheer': 4001, 'curiosity': 1072, 'pet': 3282, 'editing': 1405, 'curious': 1073, 'disaster': 1267, 'author': 306, 'listen': 2641, 'audio': 297, 'experience': 1589, 'blair': 457, 'green': 1962, 'boy': 517, 'pan': 3204, 'step': 4254, 'brother': 555, 'sick': 4039, 'body': 483, 'toilet': 4546, 'paper': 3207, 'jam': 2398, 'assume': 273, 'fish': 1724, 'bathroom': 373, 'downfall': 1327, 'station': 4243, 'product': 3475, 'subject': 4315, 'produce': 3473, 'correct': 987, 'manner': 2746, 'capital': 633, 'minus': 2878, 'profit': 3481, 'loser': 2674, 'soundtrack': 4163, 'enemy': 1470, 'amateur': 148, 'contest': 944, 'grade': 1937, 'scar': 3881, 'portrayal': 3387, 'reaction': 3596, 'pain': 3195, 'others': 3158, 'stomach': 4270, 'hurt': 2193, 'truth': 4634, 'earn': 1387, 'buck': 564, 'fool': 1759, 'failure': 1630, 'casting': 667, 'sorry': 4158, 'load': 2652, 'demonic': 1174, 'turd': 4638, 'chase': 718, 'draw': 1339, 'comical': 857, 'literature': 2644, 'credit': 1035, 'favor': 1665, 'addition': 61, 'imagine': 2228, 'school': 3892, 'club': 815, 'grow': 1981, 'exist': 1579, 'college': 839, 'preview': 3443, 'disappoint': 1263, 'stilted': 4265, 'force': 1765, 'target': 4435, 'birthday': 447, 'party': 3227, 'cutting': 1084, 'shape': 3990, 'attack': 287, 'imdb': 2229, 'understanding': 4679, 'plain': 3330, 'studio': 4303, 'filming': 1704, 'enthusiasm': 1494, 'participate': 3222, 'invention': 2356, 'skit': 4091, 'fascinate': 1655, 'boys': 519, 'ham': 2011, 'frank': 1800, 'statement': 4241, 'psycho': 3512, 'exorcist': 1582, 'creativity': 1030, 'computer': 895, 'failed': 1628, 'misery': 2885, 'contemporary': 942, 'joan': 2431, 'behave': 397, 'london': 2661, 'discovers': 1272, 'accident': 28, 'hardly': 2031, 'julian': 2458, 'oscar': 3157, 'directorial': 1257, 'debut': 1141, 'highly': 2096, 'crack': 1014, 'tony': 4556, 'ensure': 1488, 'ear': 1383, 'accurate': 35, 'publish': 3518, 'richard': 3751, 'williams': 4915, 'lucy': 2697, 'trouble': 4628, 'knowledge': 2512, 'pen': 3257, 'accuracy': 34, 'theatrical': 4492, 'incorporate': 2263, 'weave': 4870, 'gripping': 1973, 'american': 159, 'period': 3272, 'confuse': 916, 'chill': 738, 'travesty': 4605, 'painful': 3196, 'disturb': 1296, 'downright': 1329, 'positive': 3390, 'identify': 2204, 'possibility': 3395, 'whilst': 4895, 'directly': 1255, 'therefore': 4495, 'concept': 900, 'successful': 4331, 'county': 1003, 'james': 2399, 'receive': 3619, 'journalist': 2448, 'eager': 1381, 'series': 3961, 'flashback': 1733, 'spirit': 4200, 'surface': 4369, 'albeit': 113, 'execution': 1575, 'concern': 901, 'uniformly': 4697, 'across': 43, 'factor': 1624, 'damage': 1096, 'credibility': 1033, 'belief': 404, 'teenage': 4456, 'angst': 181, 'powerful': 3408, 'express': 1607, 'intent': 2329, 'annoying': 193, 'alive': 127, 'uneven': 4685, 'light': 2621, 'intensity': 2328, 'equally': 1505, 'inept': 2276, 'proper': 3495, 'faithful': 1635, 'deny': 1178, 'thanks': 4488, 'depth': 1188, 'professional': 3479, 'peter': 3284, 'cushing': 1079, 'telephone': 4459, 'humour': 2186, 'butt': 597, 'decision': 1146, 'help': 2076, 'league': 2574, 'advise': 79, 'money': 2911, 'free': 1806, 'meantime': 2802, 'grudge': 1982, 'adaptation': 56, 'comic': 856, 'relief': 3670, 'inconsistent': 2262, 'stick': 4262, 'premise': 3428, 'unique': 4703, 'intriguing': 2349, 'stop': 4273, 'comment': 860, 'filthy': 1708, 'grab': 1935, 'disgusting': 1280, 'gesture': 1887, 'bring': 546, 'pig': 3313, 'clothes': 811, 'attract': 292, 'sexuality': 3979, 'beautiful': 384, 'especially': 1516, 'tight': 4530, 'tank': 4431, 'hope': 2146, 'respect': 3715, 'raise': 3569, 'spanish': 4175, 'grandmother': 1946, 'center': 686, 'offend': 3118, 'project': 3487, 'kitty': 2506, 'obligatory': 3098, 'rush': 3830, 'beyond': 431, 'rendition': 3688, 'christmas': 755, 'poem': 3352, 'eddie': 1399, 'murphy': 2964, 'desperate': 1203, 'hip': 2105, 'current': 1074, 'timeless': 4534, 'sad': 3841, 'shark': 3992, 'franchise': 1796, 'yesterday': 4987, 'bride': 538, 'disappear': 1262, 'wedding': 4875, 'le': 2569, 'hook': 2142, 'agree': 98, 'profound': 3482, 'offensive': 3119, 'spout': 4215, 'cliche': 793, 'pass': 3229, 'protagonist': 3501, 'adam': 54, 'breast': 532, 'suck': 4333, 'thus': 4525, 'conclude': 904, 'ultimately': 4660, 'deep': 1151, 'treat': 4609, 'variety': 4756, 'perspective': 3279, 'universe': 4707, 'travel': 4604, 'desert': 1197, 'foot': 1761, 'military': 2859, 'test': 4482, 'smash': 4116, 'rocket': 3785, 'mental': 2826, 'hospital': 2161, 'kevin': 2486, 'ward': 4838, 'nicholson': 3039, 'trek': 4612, 'pursuit': 3533, 'discover': 1271, 'hbo': 2052, 'click': 794, 'exercise': 1577, 'satire': 3871, 'commentary': 861, 'condition': 908, 'dirt': 1259, 'company': 872, 'honestly': 2137, 'wreck': 4966, 'witness': 4936, 'gem': 1868, 'insightful': 2306, 'mark': 2758, 'distance': 1287, 'galaxy': 1848, 'suffers': 4340, 'unbelievable': 4664, 'top': 4558, 'address': 63, 'nonsense': 3062, 'valuable': 4750, 'familiar': 1640, 'narrative': 2988, 'structure': 4299, 'conceive': 898, 'substance': 4322, 'invite': 2363, 'double': 1322, 'tiny': 4537, 'western': 4886, 'orange': 3147, 'convention': 961, 'translation': 4599, 'error': 1514, 'left': 2582, 'devoid': 1223, 'steady': 4247, 'slide': 4106, 'undead': 4670, 'mad': 2712, 'scientist': 3896, 'toss': 4564, 'predictable': 3423, 'boob': 494, 'singing': 4070, 'genuinely': 1882, 'trait': 4591, 'firmly': 1720, 'grasp': 1951, 'evoke': 1550, 'fellow': 1680, 'common': 866, 'remind': 3681, 'comfortable': 855, 'mankind': 2743, 'comparison': 874, 'complicate': 888, 'everyday': 1543, 'rule': 3824, 'dame': 1097, 'france': 1795, 'marion': 2757, 'famous': 1642, 'afterwards': 92, 'talkie': 4428, 'impress': 2244, 'angela': 176, 'mary': 2773, 'important': 2241, 'difference': 1236, 'upper': 4729, 'secret': 3924, 'destiny': 1209, 'reel': 3643, 'meanwhile': 2803, 'spy': 4218, 'send': 3944, 'maintain': 2726, 'sink': 4074, 'boat': 480, 'fortunately': 1783, 'neighbour': 3016, 'hide': 2092, 'indeed': 2268, 'task': 4437, 'prefer': 3424, 'capture': 636, 'wicked': 4904, 'greedy': 1960, 'particular': 3223, 'carry': 658, 'catholic': 675, 'nun': 3091, 'improve': 2248, 'tremendous': 4613, 'mistake': 2891, 'soldier': 4137, 'blind': 468, 'germany': 1886, 'disguise': 1278, 'recover': 3630, 'village': 4789, 'count': 997, 'invent': 2355, 'rhythm': 3747, 'spite': 4203, 'disgrace': 1277, 'cause': 676, 'allow': 130, 'north': 3069, 'tower': 4574, 'plane': 3332, 'terribly': 4474, 'switch': 4403, 'broadcast': 550, 'howard': 2170, 'popular': 3377, 'doctor': 1305, 'screenplay': 3908, 'pulp': 3520, 'fiction': 1689, 'rag': 3563, 'producer': 3474, 'hat': 2043, 'lie': 2614, 'handle': 2018, 'news': 3033, 'previously': 3445, 'wooden': 4949, 'quiet': 3549, 'angle': 179, 'unintentional': 4699, 'distract': 1291, 'sensibility': 3950, 'bridge': 539, 'collapse': 834, 'victory': 4781, 'ally': 131, 'achieve': 38, 'month': 2920, 'combat': 846, 'engineer': 1476, 'success': 4330, 'contrary': 950, 'cynical': 1087, 'vital': 4809, 'battle': 375, 'reflection': 3647, 'preposterous': 3430, 'commander': 859, 'neat': 3005, 'row': 3816, 'arm': 238, 'ready': 3600, 'constant': 935, 'behavior': 398, 'impossible': 2243, 'expert': 1593, 'detail': 1212, 'private': 3464, 'ryan': 3838, 'veteran': 4771, 'ted': 4453, 'lift': 2620, 'harold': 2035, 'robbins': 3778, 'smith': 4119, 'whose': 4903, 'shadow': 3984, 'monkey': 2914, 'model': 2904, 'lean': 2575, 'giallo': 1891, 'bitter': 452, 'bob': 481, 'mitchum': 2894, 'clumsy': 818, 'crime': 1039, 'robert': 3779, 'cowboy': 1011, 'trail': 4587, 'hop': 2145, 'wardrobe': 4840, 'evans': 1532, 'myth': 2977, 'wayne': 4862, 'andre': 171, 'approach': 224, 'parody': 3219, 'tame': 4430, 'shower': 4031, 'mike': 2855, 'hire': 2108, 'rotten': 3809, 'mix': 2895, 'trick': 4619, 'donald': 1314, 'sutherland': 4392, 'england': 1477, 'hitch': 2114, 'evening': 1535, 'late': 2550, 'guilt': 1990, 'christie': 753, 'diverse': 1299, 'motive': 2942, 'depend': 1181, 'construction': 938, 'sidekick': 4041, 'investigator': 2361, 'reader': 3598, 'perfectly': 3267, 'okay': 3129, 'straight': 4279, 'rare': 3584, 'useful': 4737, 'de': 1129, 'innocence': 2298, 'imply': 2239, 'innocent': 2299, 'sudden': 4335, 'hack': 2000, 'drop': 1352, 'remark': 3677, 'consist': 931, 'four': 1790, 'irritate': 2377, 'jazz': 2410, 'christopher': 756, 'dave': 1123, 'rental': 3691, 'progress': 3486, 'technique': 4451, 'suit': 4345, 'wrestling': 4969, 'revenge': 3734, 'ignore': 2212, 'color': 841, 'balance': 339, 'schedule': 3890, 'apparent': 215, 'difficult': 1239, 'inner': 2297, 'logic': 2658, 'diana': 1230, 'quick': 3547, 'lucky': 2696, 'amazing': 151, 'directing': 1253, 'writing': 4973, 'believable': 406, 'lifeless': 2617, 'muddle': 2954, 'predecessor': 3421, 'sun': 4350, 'pale': 3202, 'detective': 1214, 'poirot': 3359, 'coast': 821, 'strength': 4288, 'hopelessly': 2149, 'arrive': 245, 'member': 2820, 'sensation': 3947, 'convict': 965, 'sarah': 3867, 'mile': 2858, 'ashamed': 255, 'gon': 1921, 'compare': 873, 'hercules': 2083, 'mature': 2790, 'excite': 1569, 'epic': 1502, 'sequel': 3957, 'childish': 737, 'phony': 3298, 'push': 3534, 'closer': 808, 'adventure': 75, 'edit': 1404, 'laughable': 2555, 'design': 1199, 'silly': 4051, 'eight': 1422, 'trust': 4633, 'quest': 3544, 'frequent': 1811, 'amazon': 153, 'sword': 4404, 'activity': 48, 'ancient': 169, 'greek': 1961, 'crappy': 1020, 'extend': 1610, 'smooth': 4122, 'academy': 22, 'super': 4353, 'hesitate': 2089, 'bat': 370, 'contrive': 954, 'montage': 2918, 'seven': 3972, 'poorly': 3374, 'animate': 183, 'moon': 2924, 'planet': 3333, 'beard': 381, 'relatively': 3666, 'champion': 698, 'elite': 1439, 'almighty': 132, 'sooner': 4156, 'contact': 940, 'distress': 1293, 'personality': 3277, 'ability': 4, 'sister': 4076, 'divine': 1301, 'ol': 3130, 'king': 2500, 'eternal': 1525, 'typically': 4655, 'potentially': 3402, 'awfully': 321, 'superior': 4357, 'clash': 781, 'precede': 3417, 'tactic': 4419, 'clever': 791, 'crystal': 1064, 'influence': 2283, 'kong': 2515, 'grip': 1972, 'snake': 4123, 'maria': 2753, 'eva': 1530, 'recycle': 3633, 'cue': 1065, 'unbelievably': 4665, 'reviewer': 3737, 'dismiss': 1283, 'sentence': 3953, 'flaw': 1735, 'chair': 696, 'surpass': 4371, 'animated': 184, 'namely': 2983, 'giant': 1892, 'stage': 4224, 'bomb': 489, 'online': 3135, 'discussion': 1275, 'reflect': 3646, 'artistic': 252, 'latter': 2553, 'settle': 3970, 'respectable': 3716, 'collection': 837, 'recent': 3620, 'creature': 1032, 'mainly': 2724, 'countryside': 1002, 'temple': 4463, 'flawless': 1736, 'golden': 1919, 'zombie': 4997, 'wrestle': 4967, 'bowl': 515, 'crash': 1021, 'exploit': 1598, 'iii': 2214, 'macy': 2711, 'texas': 4484, 'island': 2380, 'dinosaur': 1250, 'report': 3697, 'demonstrate': 1175, 'meaningful': 2800, 'tie': 4528, 'puppet': 3527, 'animation': 185, 'numerous': 3090, 'candle': 625, 'frequently': 1812, 'theater': 4490, 'bet': 424, 'cobra': 824, 'garage': 1854, 'inside': 2304, 'reputation': 3701, 'junk': 2466, 'outrageous': 3167, 'mood': 2922, 'gang': 1851, 'scratch': 3904, 'officer': 3123, 'spielberg': 4195, 'assault': 264, 'sens': 3946, 'ride': 3756, 'simultaneously': 4062, 'laura': 2560, 'noise': 3055, 'wise': 4930, 'vote': 4817, 'originality': 3154, 'scare': 3882, 'tea': 4443, 'reach': 3594, 'strain': 4281, 'vocal': 4811, 'smart': 4115, 'neil': 3017, 'heard': 2058, 'record': 3628, 'tire': 4539, 'talented': 4426, 'opening': 3138, 'slap': 4095, 'sue': 4337, 'flip': 1741, 'graf': 1941, 'wonderful': 4943, 'mediocre': 2809, 'territory': 4477, 'thought': 4509, 'neither': 3018, 'thrill': 4516, 'technology': 4452, 'cgi': 693, 'pump': 3521, 'rely': 3674, 'introduction': 2352, 'popcorn': 3376, 'modern': 2905, 'sum': 4347, 'jeff': 2414, 'fresh': 1813, 'intellectual': 2323, 'community': 870, 'pound': 3403, 'anybody': 201, 'splatter': 4204, 'rock': 3784, 'edition': 1406, 'conclusion': 905, 'teach': 4444, 'pocket': 3351, 'spent': 4193, 'share': 3991, 'loose': 2669, 'trite': 4624, 'sympathy': 4411, 'specie': 4183, 'childhood': 736, 'scientific': 3895, 'realistic': 3605, 'chaos': 704, 'trap': 4601, 'lost': 2676, 'portion': 3383, 'san': 3858, 'replace': 3695, 'mere': 2832, 'grant': 1949, 'strand': 4282, 'deliver': 1167, 'joe': 2435, 'immediately': 2233, 'impact': 2237, 'cartoon': 661, 'entrance': 1499, 'merely': 2833, 'option': 3146, 'existence': 1580, 'thoroughly': 4507, 'explore': 1601, 'insipid': 2307, 'bronson': 553, 'self': 3939, 'hearted': 2061, 'highway': 2097, 'heaven': 2065, 'water': 4857, 'senior': 3945, 'citizen': 773, 'satisfaction': 3872, 'installment': 2313, 'trilogy': 4620, 'altogether': 145, 'dollar': 1311, 'theatre': 4491, 'suspenseful': 4387, 'steven': 4259, 'michael': 2846, 'drivel': 1350, 'cinematic': 767, 'brand': 524, 'awesome': 319, 'glory': 1910, 'explanation': 1595, 'punk': 3526, 'credible': 1034, 'evolution': 1551, 'process': 3472, 'million': 2863, 'amaze': 150, 'thumb': 4524, 'tool': 4557, 'anymore': 202, 'nose': 3071, 'sucker': 4334, 'punch': 3523, 'pun': 3522, 'size': 4083, 'tall': 4429, 'magazine': 2716, 'season': 3919, 'competition': 881, 'bank': 348, 'folk': 1753, 'cat': 670, 'eliminate': 1438, 'join': 2440, 'lady': 2531, 'beauty': 386, 'mass': 2776, 'ultimate': 4659, 'judge': 2453, 'photographer': 3301, 'association': 272, 'consistent': 932, 'door': 1318, 'status': 4245, 'industry': 2275, 'program': 3484, 'cruel': 1059, 'jay': 2409, 'encourage': 1464, 'tip': 4538, 'resident': 3709, 'meet': 2812, 'humanity': 2182, 'idiotic': 2207, 'air': 104, 'beach': 378, 'wannabe': 4835, 'develop': 1218, 'monty': 2921, 'python': 3537, 'sketch': 4087, 'intelligent': 2325, 'healthy': 2055, 'storyline': 4277, 'wow': 4964, 'torture': 4563, 'clean': 787, 'melodrama': 2816, 'propaganda': 3494, 'law': 2563, 'jew': 2424, 'extreme': 1617, 'wing': 4924, 'tragedy': 4585, 'jimmy': 2429, 'page': 3194, 'stereotypical': 4257, 'caricature': 645, 'electric': 1430, 'guitar': 1992, 'climactic': 797, 'explosive': 1603, 'vehicle': 4762, 'genre': 1878, 'plan': 3331, 'shoulder': 4025, 'flow': 1747, 'hype': 2196, 'rise': 3767, 'annie': 190, 'bobby': 482, 'sunday': 4351, 'leader': 2571, 'matt': 2786, 'dillon': 1245, 'mobster': 2901, 'organization': 3151, 'grind': 1971, 'nicely': 3037, 'colour': 843, 'protect': 3502, 'rival': 3771, 'prison': 3462, 'realism': 3604, 'likable': 2623, 'threaten': 4514, 'stephen': 4255, 'bloody': 475, 'brad': 521, 'west': 4885, 'baseball': 364, 'photograph': 3300, 'peak': 3253, 'proceed': 3469, 'downhill': 1328, 'translate': 4598, 'wig': 4910, 'sadness': 3844, 'regret': 3656, 'scott': 3901, 'frankie': 1802, 'eric': 1509, 'better': 427, 'tommy': 4550, 'lee': 2581, 'thomas': 4505, 'corrupt': 989, 'guard': 1986, 'wire': 4928, 'chain': 694, 'lethal': 2603, 'corruption': 990, 'clint': 800, 'eastwood': 1393, 'martin': 2768, 'blame': 459, 'argue': 234, 'hopefully': 2147, 'passable': 3230, 'newcomer': 3030, 'nevertheless': 3028, 'occasionally': 3110, 'engage': 1473, 'la': 2524, 'mel': 2815, 'gibson': 1893, 'expose': 1604, 'investigation': 2360, 'wilson': 4919, 'amusing': 165, 'ross': 3808, 'nolan': 3056, 'inmate': 2296, 'proceeding': 3470, 'painfully': 3197, 'responsible': 3721, 'impressive': 2247, 'helpful': 2077, 'mayor': 2795, 'major': 2727, 'violent': 4794, 'future': 1840, 'security': 3928, 'jewish': 2426, 'depict': 1182, 'utter': 4742, 'authority': 307, 'fictional': 1690, 'resort': 3713, 'secondly': 3923, 'research': 3705, 'jail': 2396, 'meaning': 2799, 'fuel': 1829, 'wander': 4834, 'consequence': 925, 'riddle': 3755, 'criminal': 1040, 'understood': 4681, 'wax': 4860, 'crucial': 1057, 'spiritual': 4201, 'bump': 577, 'orphan': 3156, 'bull': 573, 'rider': 3757, 'adopt': 69, 'language': 2542, 'bust': 592, 'rid': 3754, 'befriend': 393, 'manager': 2737, 'abc': 3, 'afternoon': 90, 'independent': 2269, 'underrated': 4676, 'pas': 3228, 'jury': 2467, 'duty': 1374, 'iq': 2367, 'pathetic': 3240, 'department': 1180, 'eighty': 1423, 'andy': 174, 'empire': 1459, 'surely': 4367, 'dreadful': 1341, 'resemble': 3707, 'incoherent': 2259, 'horrendous': 2153, 'kinda': 2499, 'lake': 2532, 'university': 4708, 'paint': 3198, 'demon': 1173, 'shop': 4019, 'useless': 4738, 'boll': 487, 'french': 1810, 'native': 2995, 'speaking': 4180, 'lip': 2638, 'dire': 1251, 'smack': 4113, 'obscure': 3100, 'recognition': 3623, 'bite': 451, 'appal': 213, 'embarrass': 1445, 'shoe': 4016, 'ironic': 2373, 'doubt': 1323, 'await': 312, 'mum': 2956, 'divide': 1300, 'alert': 119, 'rubber': 3819, 'mask': 2774, 'forth': 1781, 'blow': 476, 'sleazy': 4102, 'charles': 713, 'blast': 462, 'south': 4165, 'solution': 4142, 'cannon': 629, 'machine': 2709, 'chief': 734, 'supply': 4360, 'thief': 4497, 'crowd': 1056, 'punishment': 3525, 'attitude': 291, 'cheer': 724, 'mindless': 2867, 'odd': 3114, 'precisely': 3419, 'involvement': 2366, 'sock': 4135, 'massacre': 2777, 'struggle': 4300, 'shallow': 3988, 'height': 2070, 'stupidity': 4311, 'sight': 4044, 'pure': 3529, 'international': 2341, 'european': 1529, 'slash': 4097, 'extraordinary': 1616, 'necessarily': 3006, 'unknown': 4709, 'gary': 1860, 'known': 2513, 'handsome': 2019, 'corny': 982, 'firstly': 1722, 'onto': 3136, 'carol': 651, 'pursue': 3532, 'ludicrous': 2698, 'originally': 3155, 'power': 3407, 'threat': 4513, 'stark': 4238, 'broad': 549, 'tongue': 4554, 'bogart': 484, 'susan': 4383, 'experienced': 1590, 'van': 4753, 'degree': 1161, 'hilarious': 2098, 'letter': 2604, 'parent': 3215, 'sibling': 4038, 'psychiatrist': 3510, 'tape': 4433, 'accomplish': 31, 'terminator': 4472, 'robot': 3783, 'reward': 3743, 'confusion': 919, 'storytelling': 4278, 'bounty': 513, 'soul': 4161, 'fairly': 1632, 'baddie': 334, 'cg': 692, 'compelling': 877, 'shin': 4008, 'revolve': 3742, 'grim': 1969, 'philip': 3292, 'newly': 3031, 'teacher': 4445, 'field': 1691, 'interpretation': 2344, 'unfold': 4690, 'realise': 3603, 'nine': 3046, 'out': 3161, 'redeeming': 3636, 'plastic': 3335, 'careful': 642, 'public': 3517, 'health': 2054, 'warning': 4845, 'demand': 1171, 'whatever': 4888, 'random': 3574, 'cloud': 813, 'positively': 3391, 'grainy': 1943, 'maniac': 2740, 'religious': 3672, 'space': 4168, 'angel': 175, 'creepy': 1037, 'candy': 626, 'creator': 1031, 'team': 4446, 'luck': 2694, 'judgment': 2454, 'equivalent': 1507, 'paul': 3249, 'pour': 3404, 'urban': 4733, 'arnold': 241, 'normally': 3066, 'barrel': 359, 'troma': 4626, 'edward': 1411, 'jr': 2452, 'albert': 114, 'fade': 1626, 'tunnel': 4637, 'vast': 4759, 'amazingly': 152, 'crude': 1058, 'hilariously': 2099, 'messy': 2839, 'fu': 1828, 'obnoxious': 3099, 'btw': 563, 'liar': 2609, 'complex': 886, 'cant': 630, 'patriotic': 3246, 'arguably': 233, 'gorgeous': 1929, 'walker': 4827, 'pretend': 3439, 'jane': 2402, 'powell': 3406, 'dick': 1233, 'eve': 1533, 'helen': 2072, 'host': 2162, 'forgettable': 1772, 'sings': 4072, 'prime': 3453, 'photo': 3299, 'universal': 4706, 'mgm': 2845, 'baker': 338, 'broadway': 551, 'comeback': 850, 'queen': 3542, 'disappointing': 1265, 'wit': 4932, 'drain': 1335, 'kiss': 2503, 'statue': 4244, 'spring': 4217, 'yell': 4983, 'suspicious': 4390, 'singer': 4069, 'advantage': 74, 'sing': 4068, 'lyric': 2707, 'ann': 187, 'infamous': 2280, 'code': 825, 'biography': 443, 'hatch': 2044, 'bargain': 355, 'manages': 2738, 'emphasize': 1458, 'inane': 2252, 'safe': 3845, 'stardom': 4236, 'naive': 2980, 'loving': 2687, 'jealous': 2411, 'owner': 3183, 'stylish': 4313, 'witty': 4937, 'masterpiece': 2781, 'sharp': 3994, 'observation': 3101, 'spot': 4213, 'treatment': 4610, 'composer': 892, 'alley': 129, 'fascinating': 1656, 'dorothy': 1320, 'cd': 678, 'chan': 699, 'charm': 716, 'predict': 3422, 'tired': 4540, 'inspire': 2311, 'file': 1700, 'vampire': 4752, 'land': 2537, 'as': 253, 'risk': 3768, 'han': 2015, 'sky': 4093, 'willing': 4917, 'werewolf': 4883, 'regular': 3657, 'peer': 3256, 'lastly': 2549, 'colorful': 842, 'disney': 1284, 'paris': 3216, 'jessica': 2421, 'heroine': 2087, 'harry': 2038, 'alternate': 141, 'magical': 2719, 'genius': 1877, 'master': 2779, 'complexity': 887, 'brat': 526, 'appeal': 217, 'dad': 1090, 'hideous': 2093, 'spectacle': 4186, 'alex': 120, 'laughing': 2557, 'background': 331, 'blank': 461, 'personally': 3278, 'sitcom': 4078, 'ton': 4552, 'purely': 3530, 'ie': 2209, 'warrant': 4846, 'dude': 1363, 'stereotype': 4256, 'jake': 2397, 'austin': 302, 'strip': 4295, 'sir': 4075, 'refer': 3644, 'hello': 2075, 'saga': 3848, 'twilight': 4647, 'wizard': 4938, 'vacation': 4744, 'wagner': 4821, 'natalie': 2991, 'ambitious': 157, 'lawyer': 2565, 'doom': 1317, 'fonda': 1757, 'patterson': 3248, 'partner': 3226, 'simon': 4056, 'consistently': 933, 'lay': 2566, 'solid': 4140, 'dramatic': 1338, 'shortcoming': 4022, 'stare': 4237, 'choppy': 748, 'assure': 274, 'shine': 4009, 'closing': 810, 'performer': 3270, 'engaging': 1474, 'commitment': 865, 'eerie': 1412, 'coffin': 827, 'invasion': 2354, 'grave': 1954, 'medical': 2806, 'study': 4304, 'phenomenon': 3290, 'mirror': 2881, 'skeleton': 4086, 'pleased': 3344, 'determine': 1215, 'admit': 66, 'martha': 2766, 'object': 3096, 'scriptwriter': 3913, 'stake': 4225, 'con': 896, 'glimpse': 1905, 'conveniently': 960, 'darn': 1116, 'remove': 3686, 'museum': 2966, 'equipment': 1506, 'keen': 2479, 'effectively': 1415, 'vague': 4745, 'juvenile': 2471, 'position': 3389, 'perfect': 3265, 'blade': 455, 'rope': 3806, 'unfortunate': 4692, 'coincidence': 830, 'dodge': 1308, 'revive': 3738, 'slam': 4094, 'absolute': 13, 'virgin': 4795, 'device': 1220, 'spike': 4196, 'gothic': 1933, 'emphasis': 1457, 'castle': 668, 'assistant': 270, 'examine': 1558, 'naturally': 2997, 'petty': 3285, 'dirty': 1260, 'patient': 3242, 'memorable': 2821, 'sublime': 4316, 'darkness': 1115, 'notably': 3075, 'afraid': 87, 'mr': 2951, 'combine': 848, 'sake': 3851, 'golf': 1920, 'player': 3339, 'unfunny': 4694, 'murderer': 2962, 'race': 3557, 'worse': 4956, 'laughter': 2558, 'eh': 1421, 'america': 158, 'simpson': 4061, 'peace': 3252, 'captain': 634, 'football': 1763, 'nowadays': 3083, 'issue': 2383, 'touching': 4568, 'lifetime': 2619, 'cable': 602, 'hart': 2040, 'scarlett': 3884, 'barbara': 350, 'baffle': 336, 'drum': 1355, 'accompany': 30, 'represent': 3699, 'text': 4485, 'currently': 1075, 'marry': 2764, 'naked': 2981, 'chuck': 758, 'reverse': 3735, 'nail': 2979, 'incomprehensible': 2261, 'mayhem': 2794, 'happily': 2025, 'jackass': 2391, 'country': 1001, 'glad': 1900, 'cancel': 622, 'gay': 1864, 'hitler': 2116, 'dont': 1316, 'holy': 2130, 'frankly': 1803, 'bully': 576, 'becomes': 388, 'unlikeable': 4713, 'spoof': 4210, 'overlook': 3175, 'desperately': 1204, 'saint': 3850, 'elder': 1428, 'moron': 2933, 'montgomery': 2919, 'sarcastic': 3869, 'relative': 3665, 'similarity': 4054, 'lovable': 2682, 'transition': 4597, 'whenever': 4892, 'rip': 3766, 'prank': 3413, 'groundbreaking': 1979, 'ball': 341, 'establish': 1520, 'afford': 84, 'metal': 2840, 'recognize': 3624, 'album': 115, 'buff': 569, 'feed': 1675, 'collect': 836, 'consume': 939, 'net': 3025, 'fifty': 1695, 'per': 3262, 'hugh': 2177, 'retain': 3727, 'complain': 882, 'excessive': 1567, 'embarrassment': 1447, 'bin': 441, 'negative': 3012, 'bleed': 465, 'knee': 2507, 'beg': 394, 'tap': 4432, 'wall': 4828, 'clock': 803, 'blockbuster': 471, 'army': 240, 'tyler': 4652, 'zoom': 4999, 'thug': 4523, 'buddy': 567, 'shove': 4027, 'wipe': 4927, 'measure': 2804, 'mentality': 2827, 'limit': 2628, 'general': 1871, 'besides': 422, 'incompetent': 2260, 'enjoyment': 1483, 'ii': 2213, 'clue': 816, 'distribution': 1295, 'fest': 1686, 'politically': 3368, 'redneck': 3639, 'psychotic': 3516, 'bone': 491, 'throat': 4518, 'stone': 4271, 'intelligence': 2324, 'linda': 2631, 'poetry': 3355, 'shift': 4007, 'card': 638, 'paranoid': 3213, 'geek': 1866, 'decides': 1145, 'randomly': 3575, 'intentional': 2331, 'within': 4934, 'painting': 3199, 'affect': 82, 'goofy': 1926, 'sadistic': 3842, 'hitchcock': 2115, 'primarily': 3451, 'huh': 2179, 'jacket': 2392, 'lol': 2660, 'valentine': 4748, 'specific': 4184, 'toward': 4572, 'clip': 801, 'unlikable': 4711, 'adult': 72, 'conflict': 913, 'professor': 3480, 'critic': 1044, 'false': 1638, 'significance': 4046, 'kane': 2473, 'gritty': 1974, 'grotesque': 1977, 'fry': 1827, 'christian': 752, 'johnson': 2439, 'homicide': 2133, 'literary': 2643, 'trace': 4577, 'serial': 3960, 'gloria': 1908, 'uncle': 4666, 'rabbit': 3556, 'safety': 3847, 'underneath': 4675, 'unreal': 4719, 'louis': 2680, 'bleak': 464, 'uplifting': 4727, 'depression': 1187, 'plenty': 3346, 'terrorize': 4480, 'apartment': 210, 'strike': 4292, 'blond': 472, 'gradually': 1938, 'defend': 1154, 'exploitation': 1599, 'link': 2635, 'architect': 230, 'reduce': 3640, 'brainless': 523, 'gentleman': 1880, 'opposite': 3145, 'definition': 1159, 'neighbor': 3014, 'winter': 4926, 'wwii': 4976, 'library': 2612, 'sixty': 4082, 'randy': 3576, 'piano': 3306, 'lovely': 2685, 'robbery': 3777, 'rogers': 3790, 'arrest': 243, 'sally': 3853, 'george': 1883, 'hayes': 2050, 'communicate': 867, 'via': 4773, 'ah': 99, 'cross': 1054, 'abrupt': 9, 'loved': 2684, 'sand': 3859, 'rio': 3764, 'bravo': 528, 'hail': 2002, 'forgotten': 1774, 'posse': 3392, 'accuse': 37, 'own': 3182, 'slip': 4109, 'key': 2487, 'stumble': 4306, 'dated': 1121, 'conduct': 909, 'investigate': 2359, 'tiresome': 4541, 'outing': 3165, 'observe': 3102, 'niece': 3042, 'hidden': 2091, 'innovative': 2300, 'era': 1508, 'lone': 2662, 'businessman': 591, 'staple': 4234, 'henchman': 2080, 'interestingly': 2338, 'thirty': 4504, 'expense': 1587, 'spell': 4190, 'faith': 1634, 'royal': 3818, 'unusual': 4724, 'circumstance': 771, 'uk': 4658, 'disc': 1269, 'jamie': 2400, 'blue': 477, 'bos': 507, 'hotel': 2165, 'lauren': 2562, 'guest': 1988, 'exception': 1563, 'pleasure': 3345, 'transform': 4595, 'florida': 1746, 'scenery': 3888, 'vega': 4761, 'mafia': 2715, 'essentially': 1519, 'trial': 4615, 'mob': 2900, 'clown': 814, 'outfit': 3164, 'involved': 2365, 'interact': 2333, 'compel': 876, 'nyc': 3095, 'court': 1007, 'rusty': 3835, 'gruesome': 1983, 'obsession': 3104, 'jesus': 2422, 'shall': 3987, 'torment': 4561, 'disgust': 1279, 'scifi': 3897, 'reporter': 3698, 'artificial': 250, 'moreover': 2928, 'calm': 610, 'argument': 235, 'happening': 2023, 'church': 762, 'pitch': 3324, 'enormous': 1484, 'religion': 3671, 'president': 3435, 'invade': 2353, 'iraq': 2368, 'anyways': 207, 'unrelated': 4721, 'rubbish': 3820, 'inject': 2293, 'fanatic': 1644, 'christ': 751, 'rebecca': 3616, 'conservative': 926, 'mainstream': 2725, 'virtue': 4799, 'wildly': 4912, 'deeply': 1152, 'portrait': 3385, 'preachy': 3416, 'contrast': 951, 'applaud': 220, 'screening': 3907, 'mercy': 2831, 'lesson': 2600, 'satan': 3870, 'aussie': 300, 'biblical': 434, 'paranormal': 3214, 'devil': 1221, 'beethoven': 392, 'bible': 433, 'grand': 1944, 'panic': 3205, 'illusion': 2220, 'method': 2842, 'solely': 4139, 'mundane': 2958, 'kidnap': 2492, 'lure': 2703, 'concert': 903, 'blatant': 463, 'acceptable': 25, 'system': 4414, 'viewpoint': 4787, 'dilemma': 1244, 'informative': 2287, 'donna': 1315, 'fascination': 1657, 'thru': 4521, 'acknowledge': 41, 'evidence': 1547, 'exploration': 1600, 'embarrassing': 1446, 'representation': 3700, 'visuals': 4808, 'mediocrity': 2810, 'subtlety': 4326, 'agenda': 95, 'recall': 3618, 'authentic': 305, 'inaccurate': 2251, 'debate': 1139, 'pat': 3237, 'scheme': 3891, 'source': 4164, 'tradition': 4582, 'halfway': 2007, 'colleague': 835, 'practical': 3409, 'likely': 2625, 'laughably': 2556, 'dracula': 1332, 'preach': 3415, 'im': 2222, 'warn': 4843, 'utterly': 4743, 'syndrome': 4412, 'overwhelm': 3178, 'casual': 669, 'blend': 466, 'resume': 3726, 'porno': 3381, 'emotional': 1453, 'quote': 3555, 'subtle': 4325, 'print': 3459, 'defense': 1155, 'suicide': 4344, 'infect': 2281, 'importance': 2240, 'married': 2763, 'urge': 4734, 'disease': 1276, 'madness': 2713, 'explicit': 1596, 'accept': 24, 'summary': 4348, 'ahead': 100, 'user': 4739, 'akin': 109, 'compassion': 875, 'uncomfortable': 4667, 'attend': 289, 'strongly': 4298, 'bounce': 511, 'ups': 4730, 'challenge': 697, 'generous': 1876, 'convincing': 968, 'individual': 2274, 'ticket': 4527, 'da': 1089, 'youth': 4992, 'turkish': 4640, 'landscape': 2538, 'carly': 648, 'sara': 3866, 'intrigue': 2348, 'locate': 2655, 'gray': 1955, 'drown': 1353, 'hogan': 2119, 'nomination': 3058, 'achievement': 39, 'repeatedly': 3693, 'cheek': 723, 'hulk': 2180, 'dive': 1298, 'pal': 3201, 'riot': 3765, 'wrestler': 4968, 'vince': 4791, 'someday': 4145, 'pro': 3466, 'wwe': 4975, 'poison': 3360, 'gas': 1861, 'russian': 3833, 'weekend': 4877, 'jones': 2444, 'rap': 3581, 'dimensional': 1247, 'nervous': 3024, 'atrocity': 285, 'luckily': 2695, 'agent': 96, 'nut': 3093, 'agency': 94, 'california': 607, 'twice': 4646, 'charming': 717, 'meeting': 2813, 'hilarity': 2100, 'unintentionally': 4700, 'depress': 1184, 'complaint': 883, 'rocky': 3787, 'adore': 71, 'terry': 4481, 'jesse': 2420, 'network': 3026, 'usa': 4735, 'ex': 1553, 'honor': 2140, 'corporation': 984, 'decline': 1148, 'refuse': 3651, 'absurdity': 18, 'chuckle': 759, 'recite': 3622, 'circle': 770, 'mighty': 2854, 'desire': 1201, 'par': 3208, 'paradise': 3210, 'yellow': 4984, 'finger': 1716, 'mar': 2750, 'overact': 3170, 'exit': 1581, 'brilliantly': 545, 'marketing': 2760, 'phrase': 3303, 'price': 3447, 'priceless': 3448, 'absurd': 17, 'delivery': 1169, 'junior': 2465, 'fifth': 1694, 'alternative': 142, 'korean': 2516, 'trade': 4580, 'sloppy': 4110, 'knife': 2508, 'crook': 1052, 'rear': 3612, 'formulaic': 1779, 'respond': 3718, 'rain': 3567, 'ford': 1767, 'cook': 970, 'southern': 4166, 'border': 500, 'hundred': 2187, 'disjoint': 1281, 'frustrate': 1824, 'psychological': 3513, 'session': 3967, 'lighting': 2622, 'movement': 2948, 'frustrating': 1825, 'article': 249, 'oppose': 3144, 'properly': 3496, 'moriarty': 2930, 'crisis': 1042, 'rough': 3811, 'nude': 3087, 'anger': 178, 'prisoner': 3463, 'raw': 3591, 'garner': 1859, 'hysterical': 2197, 'shade': 3983, 'intense': 2327, 'frame': 1794, 'choice': 744, 'selection': 3938, 'inspiration': 2310, 'hudson': 2174, 'river': 3772, 'reading': 3599, 'dedicate': 1149, 'mixed': 2896, 'banal': 344, 'shelf': 4002, 'walt': 4831, 'fond': 1756, 'soccer': 4132, 'hint': 2104, 'olivia': 3133, 'ignorance': 2210, 'rugby': 3822, 'el': 1426, 'blah': 456, 'round': 3812, 'illegal': 2216, 'immigrant': 2235, 'pleasant': 3341, 'viewing': 4786, 'goat': 1915, 'safely': 3846, 'coach': 820, 'endear': 1466, 'arrogant': 246, 'sander': 3860, 'holly': 2125, 'odds': 3116, 'brazil': 529, 'thread': 4512, 'princess': 3456, 'thankfully': 4487, 'chapter': 706, 'inherit': 2290, 'fortune': 1784, 'derek': 1190, 'cousin': 1008, 'secretly': 3926, 'frustration': 1826, 'memory': 2822, 'kennedy': 2484, 'scenario': 3886, 'confusing': 918, 'concentrate': 899, 'understandable': 4678, 'sappy': 3865, 'melodramatic': 2817, 'musician': 2969, 'armstrong': 239, 'boot': 498, 'employ': 1460, 'historical': 2110, 'howl': 2172, 'static': 4242, 'limitation': 2629, 'society': 4134, 'torn': 4562, 'virtually': 4798, 'stiff': 4263, 'dictator': 1234, 'gorilla': 1930, 'divorce': 1302, 'inability': 2250, 'split': 4206, 'momma': 2910, 'woo': 4947, 'jewel': 2425, 'sabotage': 3839, 'pride': 3449, 'greed': 1959, 'homage': 2131, 'kelly': 2482, 'popularity': 3378, 'cruise': 1061, 'asian': 256, 'subplots': 4319, 'celebrity': 680, 'cake': 606, 'gift': 1894, 'mock': 2902, 'meryl': 2835, 'streep': 4286, 'comedic': 852, 'clooney': 805, 'joel': 2436, 'meander': 2798, 'charismatic': 712, 'lively': 2648, 'fate': 1662, 'nerve': 3023, 'broken': 552, 'enterprise': 1490, 'define': 1156, 'shortly': 4023, 'horrific': 2157, 'considerable': 928, 'alike': 126, 'timing': 4535, 'restaurant': 3723, 'subtly': 4327, 'silence': 4048, 'hoot': 2144, 'kudos': 2519, 'detailed': 1213, 'oddly': 3115, 'flight': 1740, 'dynamic': 1379, 'initial': 2291, 'ship': 4010, 'rapidly': 3583, 'spaceship': 4169, 'voyage': 4818, 'unconvincing': 4668, 'destination': 1208, 'realm': 3611, 'suffice': 4341, 'brook': 554, 'tragic': 4586, 'leading': 2572, 'official': 3124, 'premiere': 3427, 'subsequently': 4321, 'curtis': 1077, 'journey': 2449, 'scout': 3903, 'possess': 3393, 'antic': 198, 'pie': 3309, 'motorcycle': 2943, 'dare': 1110, 'sergeant': 3959, 'porn': 3380, 'underlying': 4674, 'adapt': 55, 'odyssey': 3117, 'nostalgia': 3072, 'selfish': 3940, 'march': 2751, 'parade': 3209, 'symbolic': 4407, 'radio': 3562, 'whip': 4897, 'cow': 1010, 'symbolism': 4408, 'detract': 1216, 'punish': 3524, 'difficulty': 1240, 'andrew': 173, 'ape': 211, 'improvement': 2249, 'beware': 430, 'tail': 4422, 'proportion': 3498, 'bash': 366, 'stooge': 4272, 'civilization': 777, 'region': 3654, 'swallow': 4393, 'mouse': 2945, 'yawn': 4980, 'merit': 2834, 'spawn': 4178, 'betray': 425, 'symbol': 4406, 'tim': 4532, 'burton': 585, 'miyazaki': 2898, 'circus': 772, 'reject': 3661, 'feast': 1671, 'dozen': 1330, 'trio': 4621, 'flair': 1730, 'fails': 1629, 'impressed': 2245, 'mode': 2903, 'loosely': 2670, 'goal': 1914, 'prevent': 3442, 'penny': 3260, 'luke': 2700, 'nelson': 3019, 'clark': 780, 'gable': 1843, 'screwball': 3911, 'mildly': 2857, 'versus': 4770, 'critical': 1045, 'function': 1835, 'culture': 1068, 'burst': 583, 'fx': 1842, 'inevitably': 2278, 'slaughter': 4099, 'acid': 40, 'possession': 3394, 'destruction': 1211, 'pregnant': 3425, 'chest': 729, 'dubbing': 1360, 'notable': 3074, 'argento': 232, 'vibrant': 4774, 'energy': 1472, 'stunning': 4308, 'frightening': 1819, 'lugosi': 2699, 'lunch': 2701, 'whine': 4896, 'suspicion': 4389, 'block': 470, 'significant': 4047, 'injury': 2294, 'triumph': 4625, 'backdrop': 330, 'collector': 838, 'sacrifice': 3840, 'eleven': 1436, 'sub': 4314, 'mario': 2756, 'proof': 3492, 'gene': 1870, 'cronenberg': 1051, 'wonderfully': 4944, 'romp': 3798, 'absent': 12, 'passion': 3234, 'dario': 1112, 'craft': 1015, 'vignette': 4788, 'newman': 3032, 'financial': 1713, 'creative': 1029, 'goodness': 1924, 'dummy': 1368, 'introduce': 2351, 'harris': 2036, 'dennis': 1177, 'metaphor': 2841, 'desperation': 1205, 'manipulative': 2742, 'russo': 3834, 'awe': 318, 'float': 1742, 'canadian': 621, 'rave': 3590, 'poster': 3399, 'experiment': 1591, 'conventional': 962, 'shocking': 4014, 'partly': 3225, 'gross': 1976, 'sean': 3917, 'beautifully': 385, 'stag': 4223, 'cup': 1070, 'controversial': 957, 'blake': 458, 'chicago': 731, 'technically': 4450, 'require': 3703, 'definite': 1157, 'boil': 485, 'characterization': 709, 'farm': 1652, 'hippy': 2107, 'remarkable': 3678, 'composition': 893, 'johnny': 2438, 'strangely': 4284, 'philosophy': 3295, 'legendary': 2587, 'cinematographer': 768, 'conrad': 923, 'hall': 2008, 'tripe': 4623, 'stab': 4221, 'wound': 4963, 'following': 1755, 'soviet': 4167, 'union': 4702, 'nazi': 3000, 'liberty': 2611, 'nation': 2993, 'filth': 1707, 'fighting': 1698, 'legal': 2585, 'pitiful': 3325, 'table': 4416, 'jerry': 2419, 'trend': 4614, 'ridicule': 3758, 'government': 1934, 'population': 3379, 'australia': 303, 'drinking': 1348, 'charge': 710, 'political': 3367, 'attach': 286, 'mistress': 2892, 'depiction': 1183, 'brutality': 560, 'mine': 2868, 'generation': 1874, 'gap': 1853, 'jennifer': 2416, 'lynch': 2705, 'chainsaw': 695, 'brutal': 559, 'whats': 4889, 'snuff': 4130, 'julia': 2457, 'select': 3937, 'extensive': 1612, 'underground': 4673, 'icon': 2200, 'pose': 3388, 'eccentric': 1396, 'artist': 251, 'nerd': 3021, 'tolerable': 4547, 'velvet': 4764, 'lifestyle': 2618, 'visually': 4807, 'astonish': 276, 'fbi': 1669, 'conviction': 966, 'cole': 832, 'dealer': 1134, 'exposure': 1606, 'coffee': 826, 'psychopath': 3515, 'leap': 2576, 'disturbing': 1297, 'biker': 437, 'chick': 732, 'sailor': 3849, 'connect': 920, 'addict': 59, 'tolerate': 4548, 'anywhere': 208, 'outcome': 3162, 'trailer': 4588, 'carefully': 643, 'sexually': 3980, 'pervert': 3281, 'closely': 807, 'farce': 1649, 'interaction': 2334, 'incident': 2256, 'weather': 4869, 'site': 4079, 'instinct': 2318, 'whore': 4902, 'tarantino': 4434, 'mickey': 2849, 'wet': 4887, 'executive': 1576, 'samuel': 3857, 'aesthetic': 80, 'theory': 4494, 'suffering': 4339, 'injustice': 2295, 'apply': 221, 'alfred': 122, 'medicine': 2807, 'mentally': 2828, 'insane': 2301, 'meaningless': 2801, 'remote': 3684, 'revelation': 3733, 'sinister': 4073, 'training': 4590, 'foul': 1788, 'uninteresting': 4701, 'vastly': 4760, 'ray': 3592, 'lion': 2636, 'obsess': 3103, 'employee': 1461, 'storm': 4275, 'suburban': 4328, 'precious': 3418, 'info': 2284, 'lab': 2525, 'helicopter': 2073, 'transfer': 4594, 'leaf': 2573, 'united': 4705, 'whoever': 4899, 'mexico': 2844, 'rick': 3752, 'thick': 4496, 'recommendation': 3626, 'piper': 3320, 'darcy': 1109, 'airplane': 106, 'stale': 4226, 'sandra': 3861, 'sunny': 4352, 'needless': 3011, 'barrier': 360, 'edgy': 1402, 'quit': 3553, 'invest': 2358, 'anchor': 168, 'mason': 2775, 'slight': 4107, 'assign': 267, 'continually': 946, 'tonight': 4555, 'shoddy': 4015, 'bullock': 575, 'spacey': 4170, 'mesmerize': 2836, 'overdone': 3173, 'rachel': 3558, 'anthony': 197, 'shut': 4034, 'brando': 525, 'enthusiastic': 1495, 'owe': 3180, 'volume': 4813, 'leg': 2583, 'tomorrow': 4551, 'elephant': 1433, 'synopsis': 4413, 'subsequent': 4320, 'bury': 586, 'engine': 1475, 'factory': 1625, 'spark': 4177, 'explode': 1597, 'terrorist': 4479, 'smoke': 4120, 'moan': 2899, 'cent': 685, 'elevator': 1435, 'segment': 3935, 'horn': 2152, 'wash': 4849, 'housewife': 2169, 'humorous': 2185, 'batman': 374, 'bam': 342, 'lisa': 2639, 'danny': 1108, 'vietnam': 4783, 'assassin': 262, 'sandy': 3862, 'virginia': 4796, 'sneak': 4125, 'bold': 486, 'living': 2649, 'marty': 2769, 'tick': 4526, 'leather': 2579, 'youtube': 4993, 'rant': 3580, 'bruce': 557, 'willis': 4918, 'allen': 128, 'truck': 4630, 'evolve': 1552, 'letterman': 2605, 'solve': 4143, 'principal': 3457, 'firm': 1719, 'client': 795, 'lance': 2536, 'robin': 3780, 'larry': 2546, 'offering': 3121, 'ha': 1998, 'unrealistic': 4720, 'minimum': 2872, 'blink': 469, 'suspension': 4388, 'cram': 1017, 'confirm': 912, 'advertising': 77, 'cia': 764, 'active': 47, 'pray': 3414, 'gut': 1995, 'clerk': 790, 'household': 2168, 'co': 819, 'fourth': 1791, 'superb': 4354, 'roman': 3793, 'motif': 2939, 'doc': 1304, 'kahn': 2472, 'penn': 3259, 'absence': 11, 'thrust': 4522, 'uninspired': 4698, 'rage': 3564, 'ken': 2483, 'bbc': 377, 'update': 4726, 'enhance': 1480, 'outline': 3166, 'differently': 1238, 'ya': 4978, 'staff': 4222, 'paranoia': 3212, 'central': 687, 'jock': 2434, 'distinguish': 1290, 'muslim': 2970, 'presumably': 3438, 'pilot': 3315, 'considerably': 929, 'kim': 2497, 'hilton': 2102, 'australian': 304, 'phil': 3291, 'craig': 1016, 'heroin': 2086, 'neglect': 3013, 'hippie': 2106, 'turner': 4642, 'nuance': 3085, 'format': 1776, 'molly': 2907, 'humble': 2183, 'nbc': 3001, 'harm': 2033, 'reign': 3660, 'path': 3239, 'mission': 2890, 'fighter': 1697, 'programme': 3485, 'feat': 1672, 'disagree': 1261, 'miserable': 2883, 'shed': 3999, 'jeremy': 2417, 'lane': 2539, 'bud': 566, 'preserve': 3434, 'nathaniel': 2992, 'narrator': 2989, 'reluctant': 3673, 'dig': 1241, 'loyalty': 2691, 'designer': 1200, 'tour': 4570, 'admire': 65, 'happens': 2024, 'mislead': 2887, 'bored': 502, 'ethnic': 1526, 'liberal': 2610, 'retard': 3728, 'toy': 4576, 'egyptian': 1420, 'skull': 4092, 'vision': 4803, 'greatly': 1957, 'bay': 376, 'fix': 1728, 'tribute': 4618, 'severe': 3975, 'gordon': 1927, 'adolescent': 68, 'voodoo': 4816, 'mixture': 2897, 'iron': 2372, 'priest': 3450, 'fulci': 1830, 'psychic': 3511, 'dimension': 1246, 'continuity': 948, 'shy': 4036, 'cameron': 614, 'excitement': 1571, 'legacy': 2584, 'energetic': 1471, 'nostalgic': 3073, 'topic': 4559, 'wealth': 4865, 'clone': 804, 'disco': 1270, 'undoubtedly': 4684, 'environment': 1501, 'document': 1306, 'francisco': 1798, 'max': 2791, 'ranch': 3573, 'cliff': 796, 'lucas': 2692, 'rod': 3788, 'cannes': 627, 'controversy': 958, 'minimal': 2871, 'ambition': 156, 'pressure': 3437, 'responsibility': 3720, 'coherent': 828, 'fatal': 1661, 'secondary': 3922, 'plight': 3347, 'prominent': 3488, 'visitor': 4805, 'overlong': 3174, 'superficial': 4356, 'widow': 4908, 'spectacular': 4187, 'breathtaking': 535, 'genuine': 1881, 'amongst': 162, 'jacob': 2395, 'minister': 2874, 'attribute': 295, 'bishop': 448, 'request': 3702, 'isabelle': 2379, 'eastern': 1392, 'valley': 4749, 'terrify': 4476, 'wasted': 4852, 'exceed': 1560, 'loss': 2675, 'flee': 1737, 'gather': 1863, 'leslie': 2598, 'claire': 779, 'taylor': 4441, 'inappropriate': 2253, 'troubled': 4629, 'jeffrey': 2415, 'descend': 1193, 'spiral': 4199, 'et': 1523, 'demise': 1172, 'instant': 2315, 'heroic': 2085, 'mexican': 2843, 'making': 2732, 'extent': 1613, 'sin': 4063, 'unbearable': 4663, 'dear': 1137, 'exaggerated': 1557, 'fame': 1639, 'lazy': 2568, 'irrelevant': 2376, 'bias': 432, 'moore': 2925, 'distinct': 1289, 'marx': 2772, 'ronald': 3800, 'reagan': 3601, 'politician': 3369, 'monroe': 2916, 'emerge': 1449, 'nemesis': 3020, 'topless': 4560, 'canada': 620, 'surf': 4368, 'web': 4872, 'internet': 2342, 'drawing': 1340, 'vaguely': 4746, 'poke': 3362, 'kubrick': 2518, 'greatness': 1958, 'barry': 361, 'estate': 1521, 'stanley': 4232, 'hostage': 2163, 'paced': 3187, 'lloyd': 2651, 'setup': 3971, 'patch': 3238, 'ugh': 4656, 'variation': 4755, 'egg': 1417, 'morris': 2935, 'doris': 1319, 'brian': 537, 'keith': 2481, 'doug': 1324, 'recruit': 3632, 'eagle': 1382, 'iv': 2388, 'jaw': 2408, 'walken': 4826, 'belushi': 413, 'cure': 1071, 'friendly': 1816, 'increasingly': 2265, 'pack': 3191, 'booth': 499, 'shatter': 3996, 'lad': 2530, 'pool': 3372, 'centre': 688, 'janet': 2403, 'jonathan': 2443, 'pattern': 3247, 'vicious': 4776, 'lonesome': 2665, 'dysfunctional': 1380, 'flop': 1745, 'casey': 663, 'presentation': 3433, 'appreciation': 223, 'depressed': 1185, 'shout': 4026, 'abstract': 16, 'sympathize': 4410, 'believability': 405, 'liv': 2646, 'charisma': 711, 'dud': 1362, 'compromise': 894, 'africa': 88, 'african': 89, 'stuart': 4301, 'lawrence': 2564, 'practice': 3411, 'estevez': 1522, 'core': 977, 'hammer': 2014, 'lewis': 2607, 'edgar': 1400, 'snowball': 4128, 'dinner': 1249, 'ho': 2117, 'comedian': 851, 'liner': 2633, 'biopic': 444, 'narrate': 2986, 'devastate': 1217, 'showcase': 4029, 'taxi': 4440, 'wholly': 4901, 'recreate': 3631, 'saturday': 3875, 'insight': 2305, 'los': 2672, 'angeles': 177, 'sheen': 4000, 'dan': 1100, 'wheel': 4891, 'carrie': 656, 'seventy': 3973, 'beloved': 411, 'plod': 3348, 'indie': 2273, 'drunken': 1357, 'equal': 1504, 'hopper': 2150, 'daniel': 1106, 'morgan': 2929, 'thompson': 4506, 'assist': 269, 'karen': 2475, 'liking': 2627, 'chinese': 741, 'antonio': 200, 'underwater': 4682, 'generate': 1873, 'swim': 4401, 'spencer': 4191, 'oil': 3127, 'submarine': 4317, 'bush': 589, 'scenes': 3889, 'dry': 1358, 'launch': 2559, 'crush': 1062, 'hokey': 2120, 'breath': 533, 'spaghetti': 4172, 'churn': 763, 'virus': 4800, 'creep': 1036, 'retire': 3730, 'telling': 4462, 'perry': 3273, 'heap': 2056, 'godfather': 1917, 'shakespeare': 3986, 'favour': 1667, 'surprised': 4373, 'dancer': 1102, 'resolution': 3711, 'frighten': 1818, 'warrior': 4848, 'nearby': 3003, 'tribe': 4617, 'daddy': 1091, 'striking': 4293, 'defeat': 1153, 'dust': 1372, 'evan': 1531, 'deputy': 1189, 'hawk': 2049, 'hatred': 2046, 'phantom': 3288, 'successfully': 4332, 'dy': 1377, 'wynorski': 4977, 'ghoulies': 1890, 'komodo': 2514, 'absorb': 15, 'relax': 3667, 'scarecrow': 3883, 'thats': 4489, 'philosophical': 3294, 'parallel': 3211, 'property': 3497, 'finance': 1712, 'timothy': 4536, 'miller': 2862, 'foundation': 1789, 'franco': 1799, 'awaken': 314, 'showdown': 4030, 'similarly': 4055, 'clueless': 817, 'corporate': 983, 'construct': 937, 'protest': 3503, 'wolf': 4940, 'grandfather': 1945, 'passionate': 3235, 'homosexual': 2134, 'friendship': 1817, 'homosexuality': 2135, 'disregard': 1286, 'upside': 4732, 'severely': 3976, 'pleasantly': 3342, 'interpret': 2343, 'showtime': 4033, 'sincere': 4066, 'phillips': 3293, 'parker': 3218, 'jerk': 2418, 'whereas': 4893, 'lackluster': 2529, 'essence': 1517, 'delve': 1170, 'license': 2613, 'pearl': 3254, 'harbor': 2028, 'compose': 891, 'shaw': 3997, 'resemblance': 3706, 'catherine': 674, 'deneuve': 1176, 'freeze': 1809, 'dreary': 1343, 'immortal': 2236, 'astronaut': 278, 'marshall': 2765, 'command': 858, 'glenn': 1904, 'incidentally': 2257, 'lasting': 2548, 'traffic': 4584, 'weaver': 4871, 'norman': 3067, 'warren': 4847, 'cancer': 623, 'navy': 2999, 'aircraft': 105, 'comfort': 854, 'swamp': 4394, 'identity': 2205, 'thirst': 4503, 'noah': 3050, 'ark': 237, 'ralph': 3570, 'chris': 750, 'davis': 1125, 'judy': 2456, 'unexpectedly': 4687, 'roger': 3789, 'pa': 3185, 'surprising': 4374, 'chew': 730, 'yep': 4985, 'outstanding': 3169, 'carrey': 654, 'shirley': 4011, 'historically': 2111, 'immediate': 2232, 'silver': 4052, 'belt': 412, 'stunt': 4309, 'package': 3192, 'martial': 2767, 'coat': 822, 'ron': 3799, 'choreography': 749, 'astound': 277, 'supreme': 4365, 'aid': 102, 'modest': 2906, 'domestic': 1312, 'magnificent': 2720, 'beast': 382, 'kite': 2505, 'runner': 3826, 'redemption': 3637, 'amir': 160, 'matrix': 2785, 'east': 1391, 'realization': 3608, 'underdog': 4672, 'francis': 1797, 'coppola': 975, 'kung': 2520, 'corner': 981, 'washington': 4850, 'bow': 514, 'echo': 1397, 'afghanistan': 85, 'confront': 914, 'convenient': 959, 'politics': 3370, 'basement': 365, 'overweight': 3177, 'psyche': 3509, 'wine': 4923, 'bike': 436, 'irony': 2375, 'rob': 3775, 'bunny': 579, 'imaginary': 2225, 'reynolds': 3745, 'glen': 1903, 'slapstick': 4096, 'russia': 3832, 'dash': 1118, 'vincent': 4792, 'henry': 2081, 'heat': 2063, 'darker': 1114, 'spade': 4171, 'surreal': 4376, 'likewise': 2626, 'seagal': 3915, 'convincingly': 969, 'christina': 754, 'segal': 3934, 'warden': 4839, 'meal': 2796, 'regardless': 3653, 'claude': 785, 'fulfill': 1831, 'asset': 266, 'compliment': 890, 'unexpected': 4686, 'goof': 1925, 'button': 598, 'diaz': 1232, 'barrymore': 362, 'tourist': 4571, 'attraction': 293, 'airport': 107, 'instantly': 2316, 'roof': 3801, 'rude': 3821, 'damme': 1098, 'japan': 2404, 'racial': 3559, 'suggestion': 4343, 'erika': 1510, 'phoebe': 3296, 'gabriel': 1844, 'juliet': 2460, 'pg': 3287, 'unexplained': 4688, 'promote': 3491, 'imitation': 2231, 'cardboard': 639, 'ninja': 3048, 'arrival': 244, 'miscast': 2882, 'costello': 992, 'wisdom': 4929, 'joanna': 2432, 'uncover': 4669, 'poker': 3363, 'foxx': 1793, 'hal': 2005, 'griffith': 1968, 'substitute': 4323, 'service': 3966, 'surgery': 4370, 'quietly': 3550, 'pirate': 3321, 'chip': 742, 'austen': 301, 'colin': 833, 'evident': 1548, 'fancy': 1645, 'avid': 310, 'basis': 369, 'miniseries': 2873, 'bennett': 417, 'chipmunk': 743, 'imaginative': 2227, 'lambert': 2534, 'anne': 189, 'firth': 1723, 'alright': 138, 'aim': 103, 'shuttle': 4035, 'foreign': 1768, 'milk': 2860, 'relation': 3663, 'strictly': 4291, 'horrify': 2158, 'anderson': 170, 'correctly': 988, 'drake': 1336, 'superman': 4358, 'alter': 140, 'transformation': 4596, 'noble': 3051, 'tracy': 4579, 'holiday': 2123, 'patrick': 3244, 'civilian': 776, 'ban': 343, 'colonel': 840, 'shell': 4003, 'jet': 2423, 'elegant': 1431, 'ensemble': 1486, 'despise': 1206, 'josh': 2447, 'dr': 1331, 'squad': 4219, 'jill': 2427, 'incest': 2254, 'stewart': 4261, 'invisible': 2362, 'showing': 4032, 'prince': 3455, 'foil': 1752, 'grey': 1965, 'seymour': 3982, 'hoffman': 2118, 'cameraman': 613, 'tempt': 4464, 'pete': 3283, 'ignorant': 2211, 'julie': 2459, 'aaron': 0, 'fairy': 1633, 'europe': 1528, 'asylum': 279, 'pink': 3318, 'spare': 4176, 'quarter': 3541, 'origin': 3152, 'lionel': 2637, 'refresh': 3648, 'primary': 3452, 'barney': 357, 'exhibit': 1578, 'nightclub': 3044, 'persuade': 3280, 'corey': 978, 'intentionally': 2332, 'murray': 2965, 'melt': 2818, 'debbie': 1140, 'carlos': 647, 'masterful': 2780, 'youngster': 4991, 'essential': 1518, 'nancy': 2984, 'knight': 2509, 'communication': 868, 'macho': 2710, 'fund': 1836, 'excess': 1566, 'elaborate': 1427, 'fred': 1805, 'lately': 2551, 'visible': 4802, 'warm': 4841, 'stir': 4268, 'censor': 684, 'mitchell': 2893, 'amy': 166, 'daring': 1111, 'mann': 2744, 'farmer': 1653, 'tcm': 4442, 'arthur': 248, 'marvelous': 2771, 'nanny': 2985, 'policeman': 3365, 'dose': 1321, 'merchant': 2830, 'menace': 2824, 'twin': 4648, 'pin': 3317, 'speech': 4188, 'reply': 3696, 'futuristic': 1841, 'poetic': 3354, 'ritual': 3770, 'ramsey': 3572, 'abortion': 7, 'cruelty': 1060, 'gu': 1984, 'clive': 802, 'barker': 356, 'unsettling': 4723, 'exquisite': 1609, 'counter': 998, 'operation': 3141, 'birth': 446, 'china': 740, 'adequate': 64, 'frankenstein': 1801, 'kramer': 2517, 'briefly': 541, 'beneath': 415, 'roy': 3817, 'hamilton': 2012, 'heartwarming': 2062, 'resist': 3710, 'poverty': 3405, 'unhappy': 4695, 'india': 2270, 'catchy': 672, 'bless': 467, 'bollywood': 488, 'recording': 3629, 'seduce': 3929, 'hurry': 2192, 'dump': 1369, 'resource': 3714, 'delicate': 1163, 'ego': 1418, 'courage': 1005, 'trademark': 4581, 'pacific': 3188, 'specially': 4182, 'overwhelming': 3179, 'afterward': 91, 'proceeds': 3471, 'seal': 3916, 'underworld': 4683, 'subplot': 4318, 'persona': 3275, 'sustain': 4391, 'northern': 3070, 'unpleasant': 4717, 'interrupt': 2345, 'stress': 4289, 'survival': 4380, 'helpless': 2078, 'hong': 2139, 'crawl': 1023, 'qualify': 3539, 'commentator': 862, 'twelve': 4644, 'vulnerable': 4819, 'contrived': 955, 'integrity': 2322, 'dealt': 1135, 'alcohol': 116, 'swayze': 4395, 'norris': 3068, 'pimp': 3316, 'robber': 3776, 'israeli': 2382, 'assemble': 265, 'inevitable': 2277, 'duo': 1371, 'racist': 3561, 'minority': 2877, 'arab': 228, 'vice': 4775, 'karate': 2474, 'micheal': 2847, 'harvey': 2042, 'camilla': 615, 'stevens': 4260, 'oliver': 3132, 'plant': 3334, 'elsewhere': 1443, 'satisfying': 3874, 'compensate': 878, 'conspiracy': 934, 'cabin': 601, 'awhile': 322, 'cultural': 1067, 'eventual': 1537, 'brilliance': 543, 'monologue': 2915, 'festival': 1687, 'idol': 2208, 'missile': 2889, 'specifically': 4185, 'distant': 1288, 'condemn': 907, 'snap': 4124, 'antagonist': 196, 'glue': 1912, 'alec': 118, 'baldwin': 340, 'carey': 644, 'revolutionary': 3741, 'anticipate': 199, 'abbott': 2, 'classical': 784, 'coyote': 1013, 'travolta': 4607, 'civil': 775, 'thoughtful': 4510, 'engross': 1479, 'tender': 4468, 'being': 402, 'logical': 2659, 'characteristic': 708, 'racism': 3560, 'midnight': 2852, 'sentiment': 3954, 'behaviour': 399, 'gear': 1865, 'testament': 4483, 'campaign': 617, 'tackle': 4417, 'addiction': 60, 'educate': 1408, 'contribution': 953, 'carpenter': 652, 'insist': 2308, 'phenomenal': 3289, 'creation': 1028, 'crop': 1053, 'transcend': 4593, 'columbia': 844, 'unfair': 4689, 'imagery': 2224, 'cigarette': 765, 'bean': 379, 'elevate': 1434, 'emperor': 1456, 'pierre': 3312, 'perfection': 3266, 'leigh': 2588, 'jar': 2406, 'douglas': 1325, 'confrontation': 915, 'mini': 2870, 'britain': 547, 'lend': 2591, 'spain': 4173, 'sidney': 4042, 'refugee': 3650, 'lamb': 2533, 'principle': 3458, 'notorious': 3081, 'inexplicably': 2279, 'peculiar': 3255, 'objective': 3097, 'companion': 871, 'sigh': 4043, 'ian': 2198, 'hank': 2021, 'hindi': 2103, 'exceptionally': 1565, 'scope': 3898, 'criticize': 1047, 'isolated': 2381, 'emotionally': 1454, 'caper': 632, 'heist': 2071, 'ocean': 3112, 'gregory': 1964, 'imitate': 2230, 'gender': 1869, 'counterpart': 999, 'competent': 880, 'feminist': 1683, 'dominate': 1313, 'abusive': 20, 'website': 4874, 'bernard': 420, 'matthew': 2789, 'behold': 401, 'dragon': 1334, 'leo': 2595, 'lang': 2540, 'conscience': 924, 'assassination': 263, 'linger': 2634, 'superbly': 4355, 'babe': 326, 'jungle': 2464, 'tarzan': 4436, 'bikini': 438, 'cleverly': 792, 'egypt': 1419, 'sci': 3893, 'fi': 1688, 'prejudice': 3426, 'moody': 2923, 'cyborg': 1085, 'acquire': 42, 'unwatchable': 4725, 'consideration': 930, 'sophisticated': 4157, 'caine': 605, 'identical': 2203, 'passenger': 3232, 'carnival': 650, 'warmth': 4842, 'inspired': 2312, 'descent': 1194, 'predator': 3420, 'simplicity': 4058, 'splendid': 4205, 'romanian': 3795, 'recommended': 3627, 'bucket': 565, 'cooper': 972, 'labor': 2527, 'http': 2173, 'polish': 3366, 'notch': 3076, 'freedom': 1807, 'fortunate': 1782, 'july': 2461, 'claustrophobic': 786, 'santa': 3864, 'di': 1226, 'garden': 1857, 'michelle': 2848, 'defy': 1160, 'diamond': 1229, 'ben': 414, 'suitable': 4346, 'aboard': 6, 'rebel': 3617, 'celebrate': 679, 'gimmick': 1896, 'maid': 2721, 'orchestra': 3148, 'kate': 2476, 'loan': 2653, 'chat': 719, 'ireland': 2369, 'treasure': 4608, 'victor': 4778, 'crossfire': 1055, 'carradine': 653, 'patricia': 3243, 'quentin': 3543, 'irish': 2371, 'sleaze': 4101, 'aspire': 261, 'savage': 3876, 'illustrate': 2221, 'intimate': 2347, 'mtv': 2952, 'exterior': 1614, 'reminder': 3682, 'nicole': 3041, 'perceive': 3263, 'coin': 829, 'reasonably': 3615, 'harmless': 2034, 'sensible': 3951, 'tacky': 4418, 'alexander': 121, 'inventive': 2357, 'ambiguity': 154, 'importantly': 2242, 'appropriately': 226, 'climb': 799, 'leonard': 2596, 'nonsensical': 3063, 'honesty': 2138, 'cycle': 1086, 'morality': 2927, 'gentle': 1879, 'dee': 1150, 'wallace': 4829, 'tad': 4420, 'heel': 2069, 'inferior': 2282, 'grin': 1970, 'extended': 1611, 'unpredictable': 4718, 'register': 3655, 'shatner': 3995, 'watcher': 4855, 'warner': 4844, 'foster': 1787, 'revolution': 3740, 'simplistic': 4059, 'unit': 4704, 'butler': 596, 'vary': 4758, 'frozen': 1823, 'confession': 911, 'welles': 4882, 'widely': 4906, 'standout': 4231, 'respective': 3717, 'glorious': 1909, 'virtual': 4797, 'macbeth': 2708, 'passing': 3233, 'traditional': 4583, 'flynn': 1750, 'fist': 1725, 'errol': 1513, 'sydney': 4405, 'lieutenant': 2615, 'seldom': 3936, 'delivers': 1168, 'react': 3595, 'marvel': 2770, 'emma': 1451, 'bitch': 450, 'widescreen': 4907, 'garbo': 1856, 'justin': 2470, 'reef': 3642, 'cannibal': 628, 'poignant': 3356, 'portman': 3384, 'accurately': 36, 'miner': 2869, 'internal': 2340, 'chicken': 733, 'ease': 1389, 'chilling': 739, 'square': 4220, 'rural': 3829, 'octopus': 3113, 'crocodile': 1050, 'ruthless': 3837, 'goodbye': 1923, 'kirk': 2502, 'noir': 3054, 'april': 227, 'herzog': 2088, 'sensitive': 3952, 'forced': 1766, 'prize': 3465, 'nominate': 3057, 'primitive': 3454, 'shore': 4020, 'obtain': 3105, 'choke': 745, 'vivid': 4810, 'exotic': 1583, 'digital': 1242, 'grass': 1952, 'surroundings': 4379, 'breakdown': 531, 'bound': 512, 'weakness': 4864, 'glance': 1901, 'physically': 3305, 'mail': 2722, 'ali': 123, 'medieval': 2808, 'moving': 2950, 'diane': 1231, 'advertise': 76, 'mummy': 2957, 'bruno': 558, 'chupacabra': 761, 'marine': 2755, 'pierce': 3311, 'davy': 1126, 'corn': 980, 'dylan': 1378, 'audition': 298, 'stroke': 4296, 'lengthy': 2593, 'cope': 974, 'experimental': 1592, 'reed': 3641, 'heartbreaking': 2060, 'raid': 3565, 'dean': 1136, 'couch': 995, 'rome': 3797, 'abound': 8, 'sweat': 4397, 'swedish': 4398, 'dove': 1326, 'devote': 1224, 'communist': 869, 'outer': 3163, 'webb': 4873, 'hughes': 2178, 'rita': 3769, 'hayworth': 2051, 'bunuel': 580, 'poet': 3353, 'captivate': 635, 'sane': 3863, 'happiness': 2026, 'scorpion': 3900, 'quaid': 3538, 'willard': 4913, 'pioneer': 3319, 'embrace': 1448, 'overcome': 3172, 'candidate': 624, 'al': 110, 'interior': 2339, 'beverly': 429, 'layer': 2567, 'ideal': 2202, 'delightfully': 1166, 'snow': 4127, 'crane': 1018, 'fence': 1685, 'rex': 3744, 'jealousy': 2412, 'concerned': 902, 'gere': 1884, 'madonna': 2714, 'oz': 3184, 'filmmaking': 1706, 'earl': 1384, 'anime': 186, 'rourke': 3813, 'berlin': 419, 'betrayal': 426, 'bardem': 352, 'cox': 1012, 'gal': 1847, 'ellen': 1441, 'global': 1906, 'cobb': 823, 'psychology': 3514, 'insanity': 2302, 'inspector': 2309, 'education': 1409, 'granny': 1948, 'jordan': 2445, 'skate': 4084, 'shemp': 4004, 'li': 2608, 'jan': 2401, 'ny': 3094, 'columbo': 845, 'unforgettable': 4691, 'kathy': 2477, 'spock': 4207, 'sherlock': 4006, 'holmes': 2128, 'empathy': 1455, 'raymond': 3593, 'monk': 2912, 'atomic': 282, 'fabulous': 1620, 'servant': 3964, 'grief': 1966, 'bates': 371, 'chronicle': 757, 'cagney': 604, 'chaney': 701, 'buster': 593, 'keaton': 2478, 'critique': 1048, 'dutch': 1373, 'quinn': 3551, 'wright': 4970, 'breed': 536, 'slave': 4100, 'profoundly': 3483, 'jon': 2442, 'passage': 3231, 'ernest': 1511, 'eugene': 1527, 'irene': 2370, 'dunne': 1370, 'boris': 505, 'conan': 897, 'dwarf': 1376, 'drift': 1345, 'hallmark': 2009, 'flag': 1729, 'stan': 4228, 'laurel': 2561, 'hardy': 2032, 'margaret': 2752, 'owen': 3181, 'ivan': 2389, 'judith': 2455, 'depardieu': 1179, 'tiger': 4529, 'wong': 4945, 'loneliness': 2663, 'horizon': 2151, 'wesley': 4884, 'stefan': 4252, 'vera': 4768, 'flower': 1748, 'cheerleader': 725, 'victoria': 4779, 'pitt': 3326, 'gein': 1867, 'renee': 3689, 'priscilla': 3461, 'regularly': 3658, 'tramp': 4592, 'carson': 659, 'custer': 1080, 'heather': 2064, 'graham': 1942, 'joseph': 2446, 'niro': 3049, 'carter': 660, 'campbell': 618, 'sen': 3943, 'leno': 2594, 'crisp': 1043, 'kyle': 2523, 'sweep': 4399, 'surrender': 4377, 'bonnie': 492, 'norma': 3064, 'kurtz': 2522, 'corman': 979, 'barber': 351, 'myers': 2974, 'assignment': 268, 'muppets': 2960, 'ambiguous': 155, 'span': 4174, 'femme': 1684, 'roommate': 3803, 'pam': 3203, 'grier': 1967, 'wagon': 4822, 'poitier': 3361, 'exceptional': 1564, 'aztec': 325, 'vain': 4747, 'concorde': 906, 'bela': 403, 'snipe': 4126, 'glover': 1911, 'pornography': 3382, 'bacon': 332, 'diner': 1248, 'huston': 2195, 'lemmon': 2590, 'baron': 358, 'bandit': 346, 'brynner': 562, 'analysis': 167, 'adorable': 70, 'samantha': 3856, 'travis': 4606, 'dalton': 1095, 'railroad': 3566, 'cummings': 1069, 'burt': 584, 'czech': 1088, 'institution': 2319, 'daffy': 1092, 'minnie': 2875, 'patriot': 3245, 'carriage': 655, 'khan': 2488, 'sarandon': 3868, 'jo': 2430, 'scottish': 3902, 'harvest': 2041, 'restore': 3724, 'redford': 3638, 'marie': 2754, 'von': 4815, 'rifle': 3761, 'maggie': 2717, 'snowman': 4129, 'todd': 4544, 'henson': 2082, 'cusack': 1078, 'hugely': 2176, 'ash': 254, 'cassavetes': 665, 'willie': 4916, 'skateboard': 4085, 'gamble': 1849, 'lucio': 2693, 'understated': 4680, 'pacino': 3190, 'robocop': 3782, 'hamlet': 2013, 'bergman': 418, 'dallas': 1094, 'chucky': 760, 'busey': 588, 'illuminate': 2219, 'robinson': 3781, 'belle': 409, 'meg': 2814, 'haines': 2003, 'leland': 2589, 'gosling': 1932, 'mencia': 2825, 'marlow': 2761, 'malkovich': 2734, 'monkees': 2913, 'pfeiffer': 3286, 'edison': 1403, 'greg': 1963, 'fort': 1780, 'amanda': 147, 'gulliver': 1993, 'joyce': 2451, 'danish': 1107, 'fiennes': 1692, 'ator': 283, 'matthau': 2788, 'rockne': 3786, 'ramon': 3571, 'felix': 1678, 'connery': 922, 'stanwyck': 4233, 'freeman': 1808, 'kidman': 2491, 'zellweger': 4994, 'victorian': 4780, 'globe': 1907, 'lynn': 2706, 'rivet': 3773, 'rickman': 3753, 'despair': 1202, 'graduation': 1940, 'elijah': 1437, 'milo': 2864, 'loy': 2689, 'muppet': 2959, 'realistically': 3606, 'kermit': 2485, 'rouge': 3810, 'rice': 3749, 'darwin': 1117, 'rhett': 3746, 'altman': 144, 'devito': 1222, 'asterix': 275, 'penguin': 3258, 'rainbow': 3568, 'salman': 3854, 'mishima': 2886, 'boone': 497, 'shylock': 4037, 'garfield': 1858, 'huppert': 2191, 'eisenstein': 1424, 'selleck': 3942, 'acceptance': 26, 'melville': 2819, 'istanbul': 2384, 'kieslowski': 2493, 'lestat': 2601, 'sheba': 3998, 'nero': 3022, 'caligula': 608, 'sinatra': 4064, 'zoey': 4996, 'farscape': 1654, 'rooney': 3804, 'mormon': 2931, 'lupino': 2702, 'holm': 2127, 'langdon': 2541, 'liz': 2650, 'moses': 2936, 'ricci': 3748, 'walsh': 4830, 'lansbury': 2543, 'babette': 327, 'rory': 3807, 'dexter': 1225, 'andreas': 172, 'gromit': 1975, 'dirk': 1258, 'dassin': 1119, 'sharky': 3993, 'prue': 3508, 'sosuke': 4160, 'ponyo': 3371, 'prot': 3500}\n",
      "\n",
      "\n",
      "   \n",
      "vectorized data:\n",
      "   (0, 4958)\t0.15859777621384935\n",
      "  (0, 4952)\t0.06106555069721387\n",
      "  (0, 4941)\t0.07367305710952485\n",
      "  (0, 4931)\t0.09480027846742979\n",
      "  (0, 4900)\t0.0753701923147486\n",
      "  (0, 4853)\t0.04678093122522736\n",
      "  (0, 4836)\t0.06023520626111239\n",
      "  (0, 4832)\t0.13922326438427984\n",
      "  (0, 4823)\t0.2809942815009005\n",
      "  (0, 4736)\t0.06647761034690845\n",
      "  (0, 4566)\t0.2757936256891328\n",
      "  (0, 4545)\t0.0829197945699084\n",
      "  (0, 4508)\t0.0692784476539251\n",
      "  (0, 4500)\t0.10031717553588286\n",
      "  (0, 4088)\t0.12107799846132566\n",
      "  (0, 4065)\t0.15382762319233997\n",
      "  (0, 3977)\t0.09350701928358592\n",
      "  (0, 3930)\t0.11888823986941971\n",
      "  (0, 3887)\t0.05406495854115616\n",
      "  (0, 3879)\t0.05303552708683932\n",
      "  (0, 3828)\t0.3155129777552082\n",
      "  (0, 3799)\t0.14717340069336834\n",
      "  (0, 3791)\t0.07182263699156707\n",
      "  (0, 3762)\t0.07383139767337128\n",
      "  (0, 3690)\t0.09463459338155218\n",
      "  :\t:\n",
      "  (18749, 1703)\t0.06833742505027861\n",
      "  (18749, 1623)\t0.06976331035277561\n",
      "  (18749, 1585)\t0.07706480873050406\n",
      "  (18749, 1545)\t0.0767316239368634\n",
      "  (18749, 1541)\t0.13496564413388262\n",
      "  (18749, 1536)\t0.1910876570853799\n",
      "  (18749, 1024)\t0.15625017036761776\n",
      "  (18749, 996)\t0.05167667447570882\n",
      "  (18749, 864)\t0.1159509993040112\n",
      "  (18749, 783)\t0.08219921471650503\n",
      "  (18749, 744)\t0.1052380116680224\n",
      "  (18749, 722)\t0.09683367717217838\n",
      "  (18749, 720)\t0.09806764538677047\n",
      "  (18749, 667)\t0.11891791256178913\n",
      "  (18749, 666)\t0.06842963287736746\n",
      "  (18749, 568)\t0.0865509338252446\n",
      "  (18749, 520)\t0.3426631760024188\n",
      "  (18749, 449)\t0.07209423183165797\n",
      "  (18749, 383)\t0.10630716576774898\n",
      "  (18749, 333)\t0.0981848282799655\n",
      "  (18749, 311)\t0.09787946288017166\n",
      "  (18749, 218)\t0.08353383568691675\n",
      "  (18749, 191)\t0.14958219307358456\n",
      "  (18749, 139)\t0.10592956936339734\n",
      "  (18749, 59)\t0.1397651798252973\n"
     ]
    }
   ],
   "source": [
    "                            #--------------------STAGE-2-----------------\n",
    "\n",
    "\n",
    "#prepare train and test data sets\n",
    "from sklearn.model_selection import train_test_split\n",
    "x_train,x_test,y_train,y_test=train_test_split(d['text_final'],d['label'],test_size=0.25,random_state=0)\n",
    "print('x_train:\\n',x_train)  #x->data predictors\n",
    "                            #y->data target\n",
    "\n",
    "\n",
    "#Encoding( in binary format)\n",
    "from sklearn.preprocessing import LabelEncoder\n",
    "encoder=LabelEncoder()\n",
    "y_train_new =encoder.fit_transform(y_train)\n",
    "y_test_new=encoder.fit_transform(y_test)\n",
    "\n",
    "\n",
    "#word vectorization (It is a general process of turning a collection of text documents into numerical feature vectors)\n",
    "from sklearn.feature_extraction.text import TfidfVectorizer   #tfidf:term frequency -inverse document frequency\n",
    "                                                         #Term Frequency: This summarizes how often a given word appears within a document.\n",
    "                                                         #Inverse Document Frequency: This down scales words that appear a lot across documents.\n",
    "                                                         #This will help TF-IDF build a vocabulary of words which it has learned from the corpus data and it will assign a unique integer number to each of these words.\n",
    "                                                         #Their will be maximum of 5000 unique words/features as we have set parameter max_features=5000.\n",
    "\n",
    "tfidf_vect=TfidfVectorizer(max_features=5000)\n",
    "tfidf_vect.fit(d['text_final'])\n",
    "\n",
    "x_train_tfidf=tfidf_vect.transform(x_train)\n",
    "x_test_tfidf=tfidf_vect.transform(x_test)\n",
    "\n",
    "print(\"vocabulary that it has learned from the 'd' dataframe:\\n\",tfidf_vect.vocabulary_)\n",
    "\n",
    "print('\\n')\n",
    "print('   ')\n",
    "print(\"vectorized data:\\n\",x_train_tfidf)\n"
   ]
  },
  {
   "cell_type": "code",
   "execution_count": 114,
   "metadata": {},
   "outputs": [],
   "source": [
    "\n",
    "movieVzer=tfidf_vect\n",
    "\n",
    "# fit and tranform using training text \n",
    "docs_train_counts = movieVzer.fit_transform(x_train)\n",
    "\n",
    "from sklearn.feature_extraction.text import TfidfTransformer\n",
    "# Convert raw frequency counts into TF-IDF values\n",
    "movieTfmer = TfidfTransformer()\n",
    "docs_train_tfidf = movieTfmer.fit_transform(docs_train_counts)\n",
    "\n",
    "# Using the fitted vectorizer and transformer, tranform the test data\n",
    "docs_test_counts = movieVzer.transform(x_test)\n",
    "docs_test_tfidf = movieTfmer.transform(docs_test_counts)\n",
    "\n",
    "\n",
    "# Making the Confusion Matrix\n",
    "#from sklearn.metrics import confusion_matrix\n",
    "#cm = confusion_matrix(y_test, prediction_svm)"
   ]
  },
  {
   "cell_type": "code",
   "execution_count": 115,
   "metadata": {},
   "outputs": [
    {
     "name": "stdout",
     "output_type": "stream",
     "text": [
      "Accuracy score using SVM-> 88.416\n",
      "Accuracy score using Naive_Bayes classifier-> 85.37599999999999\n"
     ]
    }
   ],
   "source": [
    "                                                  #do prediction\n",
    " #(using SVM)\n",
    "from sklearn.svm import SVC\n",
    "from sklearn.metrics import accuracy_score\n",
    "\n",
    "svm1=SVC(C=1.0,kernel='linear',degree=3,gamma='auto')\n",
    "svm1.fit(docs_train_tfidf,y_train)\n",
    "\n",
    "prediction_svm=svm1.predict(docs_test_tfidf) #predict the labels on validation dataset\n",
    "\n",
    "print(\"Accuracy score using SVM->\",accuracy_score(prediction_svm,y_test)*100)\n",
    "#print(y_train)\n",
    "\n",
    "\n",
    "\n",
    "\n",
    " #(using naive-bayes classification)\n",
    "from sklearn.naive_bayes import MultinomialNB\n",
    "\n",
    "naive=MultinomialNB()\n",
    "naive.fit(docs_train_tfidf,y_train)\n",
    "\n",
    "prediction_nb=naive.predict(docs_test_tfidf)  #predict the labels on validation dataset\n",
    "\n",
    "print(\"Accuracy score using Naive_Bayes classifier->\",accuracy_score(prediction_nb,y_test)*100)\n",
    " \n",
    " \n",
    "\n",
    "\n",
    " #(using decision tree algorithm)\n",
    "#from sklearn.tree import DecisionTreeClassifier\n",
    "\n",
    "#dc=DecisionTreeClassifier()\n",
    "#dc.fit(x_train_tfidf,y_train)\n",
    "\n",
    "#prediction_dta=dc.predict(x_test_tfidf)\n",
    "\n",
    "#from sklearn import metrics\n",
    "\n",
    "#print(\"Accuracy score using decision tree algorithm->\",accuracy_score(prediction_dta,y_test))\n",
    "\n",
    "\n",
    "#from nltk.corpus import wordnet as wn\n",
    "#sysn=wn.synsets(\"program\")\n",
    "#print(\"synonyms of the program:\")"
   ]
  },
  {
   "cell_type": "code",
   "execution_count": 117,
   "metadata": {},
   "outputs": [
    {
     "data": {
      "text/plain": [
       "array(['pos'], dtype=object)"
      ]
     },
     "execution_count": 117,
     "metadata": {},
     "output_type": "execute_result"
    }
   ],
   "source": [
    "# Convert raw frequency counts into TF-IDF values\n",
    "#k=input(\"enter your review\")\n",
    "movieTfmer = TfidfTransformer()\n",
    "movieTfmer.fit_transform(docs_train_counts)\n",
    "rev=['''I will divide my review into following 5 categories each accounting a maximum of 100%(if perfect) ________________________________________________________________ <br /><br />Visual Pleasure:[100%] This is extremely pleasing movie visually. I had a great time watching it. Golfing scenes are very well shot and the dramatic effects on the green were quite amazing. I also loved seeing the old wooden golf clubs and the bag.<br /><br />Director's Work:[70%] Bill Paxton is more associated to acting but this film shows he's got talent. Did a decent job.<br /><br />Acting:[90%] Shia LeBeouf was very good in his role of Francis Ouimet(this guy can ACT well). The rest of the cast was also good.<br /><br />Entertainment Value:[100%] I enjoyed every minute of it. It was overwhelmingly entertaining.<br /><br />Script:[91%] Based on a true story and therefore it makes the film that much more special. It was intriguing right from the start and loved every scene till the very end.<br /><br />__________________________________________________________________ <br /><br />My Advice: Definitely a MUST watch for all the Sports lovers especially Golf(You all will love it). Anyone who is looking for a nice entertaining movie and doesn't hate Sports can watch it. <br /><br />_____ <br /><br />10/10''']\n",
    "rev2=tfidf_vect.transform(rev)\n",
    "rev3=movieTfmer.transform(rev2)\n",
    "pred = svm1.predict(rev3)\n",
    "pred"
   ]
  }
 ],
 "metadata": {
  "kernelspec": {
   "display_name": "Python 3",
   "language": "python",
   "name": "python3"
  },
  "language_info": {
   "codemirror_mode": {
    "name": "ipython",
    "version": 3
   },
   "file_extension": ".py",
   "mimetype": "text/x-python",
   "name": "python",
   "nbconvert_exporter": "python",
   "pygments_lexer": "ipython3",
   "version": "3.7.6"
  }
 },
 "nbformat": 4,
 "nbformat_minor": 2
}
